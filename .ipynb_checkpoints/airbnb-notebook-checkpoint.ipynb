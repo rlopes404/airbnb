{
 "cells": [
  {
   "cell_type": "markdown",
   "metadata": {},
   "source": [
    "# Airbnb Notebook"
   ]
  },
  {
   "cell_type": "markdown",
   "metadata": {},
   "source": [
    "# 1 - Limpeza de Dados"
   ]
  },
  {
   "cell_type": "code",
   "execution_count": 114,
   "metadata": {},
   "outputs": [
    {
     "data": {
      "text/plain": [
       "(33715, 106)"
      ]
     },
     "execution_count": 114,
     "metadata": {},
     "output_type": "execute_result"
    }
   ],
   "source": [
    "import pandas as pd\n",
    "import numpy as np\n",
    "import warnings\n",
    "warnings.filterwarnings('ignore')\n",
    "\n",
    "data = pd.read_csv('data/listings-full.csv', sep=',')\n",
    "data.shape"
   ]
  },
  {
   "cell_type": "markdown",
   "metadata": {},
   "source": [
    "Algumas colunas possuem preços no formato \\\\$1,000.00. Vamos remover '\\\\$' e ','"
   ]
  },
  {
   "cell_type": "code",
   "execution_count": 115,
   "metadata": {},
   "outputs": [
    {
     "data": {
      "text/html": [
       "<div>\n",
       "<style scoped>\n",
       "    .dataframe tbody tr th:only-of-type {\n",
       "        vertical-align: middle;\n",
       "    }\n",
       "\n",
       "    .dataframe tbody tr th {\n",
       "        vertical-align: top;\n",
       "    }\n",
       "\n",
       "    .dataframe thead th {\n",
       "        text-align: right;\n",
       "    }\n",
       "</style>\n",
       "<table border=\"1\" class=\"dataframe\">\n",
       "  <thead>\n",
       "    <tr style=\"text-align: right;\">\n",
       "      <th></th>\n",
       "      <th>price</th>\n",
       "      <th>security_deposit</th>\n",
       "      <th>extra_people</th>\n",
       "    </tr>\n",
       "  </thead>\n",
       "  <tbody>\n",
       "    <tr>\n",
       "      <th>0</th>\n",
       "      <td>$332.00</td>\n",
       "      <td>$0.00</td>\n",
       "      <td>$63.00</td>\n",
       "    </tr>\n",
       "    <tr>\n",
       "      <th>1</th>\n",
       "      <td>$160.00</td>\n",
       "      <td>$1,000.00</td>\n",
       "      <td>$45.00</td>\n",
       "    </tr>\n",
       "    <tr>\n",
       "      <th>2</th>\n",
       "      <td>$273.00</td>\n",
       "      <td>$0.00</td>\n",
       "      <td>$42.00</td>\n",
       "    </tr>\n",
       "    <tr>\n",
       "      <th>3</th>\n",
       "      <td>$378.00</td>\n",
       "      <td>$1,050.00</td>\n",
       "      <td>$63.00</td>\n",
       "    </tr>\n",
       "    <tr>\n",
       "      <th>4</th>\n",
       "      <td>$130.00</td>\n",
       "      <td>$400.00</td>\n",
       "      <td>$80.00</td>\n",
       "    </tr>\n",
       "  </tbody>\n",
       "</table>\n",
       "</div>"
      ],
      "text/plain": [
       "     price security_deposit extra_people\n",
       "0  $332.00            $0.00       $63.00\n",
       "1  $160.00        $1,000.00       $45.00\n",
       "2  $273.00            $0.00       $42.00\n",
       "3  $378.00        $1,050.00       $63.00\n",
       "4  $130.00          $400.00       $80.00"
      ]
     },
     "execution_count": 115,
     "metadata": {},
     "output_type": "execute_result"
    }
   ],
   "source": [
    "cols = ['price', 'security_deposit', 'extra_people']\n",
    "data[cols].head()"
   ]
  },
  {
   "cell_type": "code",
   "execution_count": 32,
   "metadata": {},
   "outputs": [
    {
     "data": {
      "text/plain": [
       "price               float64\n",
       "security_deposit    float64\n",
       "extra_people        float64\n",
       "dtype: object"
      ]
     },
     "execution_count": 32,
     "metadata": {},
     "output_type": "execute_result"
    }
   ],
   "source": [
    "cols = ['price', 'security_deposit', 'extra_people']\n",
    "data[cols] = data[cols].apply(lambda x: x.str.replace('$','').str.replace(',','').astype(float))\n",
    "data[cols].dtypes"
   ]
  },
  {
   "cell_type": "markdown",
   "metadata": {},
   "source": [
    "Como pode ser visto abaixo, há colunas cujos valores não são númericos. Vamos manter apenas as colunas com valores numéricos e um subconjunto selecionado de colunas. Esse subconjunto contém colunas que acreditamos ser relevantes para o problema após consultar um especialista. Desse modo, mantivemos 63 das 106 colunas originais."
   ]
  },
  {
   "cell_type": "code",
   "execution_count": 33,
   "metadata": {},
   "outputs": [
    {
     "name": "stdout",
     "output_type": "stream",
     "text": [
      "id \t int64\n",
      "listing_url \t object\n",
      "scrape_id \t int64\n",
      "last_scraped \t object\n",
      "name \t object\n",
      "summary \t object\n",
      "space \t object\n",
      "description \t object\n",
      "experiences_offered \t object\n",
      "neighborhood_overview \t object\n",
      "notes \t object\n",
      "transit \t object\n",
      "access \t object\n",
      "interaction \t object\n",
      "house_rules \t object\n",
      "thumbnail_url \t float64\n",
      "medium_url \t float64\n",
      "picture_url \t object\n",
      "xl_picture_url \t float64\n",
      "host_id \t int64\n",
      "host_url \t object\n",
      "host_name \t object\n",
      "host_since \t object\n",
      "host_location \t object\n",
      "host_about \t object\n",
      "host_response_time \t object\n",
      "host_response_rate \t object\n",
      "host_acceptance_rate \t float64\n",
      "host_is_superhost \t object\n",
      "host_thumbnail_url \t object\n",
      "host_picture_url \t object\n",
      "host_neighbourhood \t object\n",
      "host_listings_count \t float64\n",
      "host_total_listings_count \t float64\n",
      "host_verifications \t object\n",
      "host_has_profile_pic \t object\n",
      "host_identity_verified \t object\n",
      "street \t object\n",
      "neighbourhood \t object\n",
      "neighbourhood_cleansed \t object\n",
      "neighbourhood_group_cleansed \t float64\n",
      "city \t object\n",
      "state \t object\n",
      "zipcode \t object\n",
      "market \t object\n",
      "smart_location \t object\n",
      "country_code \t object\n",
      "country \t object\n",
      "latitude \t float64\n",
      "longitude \t float64\n",
      "is_location_exact \t object\n",
      "property_type \t object\n",
      "room_type \t object\n",
      "accommodates \t int64\n",
      "bathrooms \t float64\n",
      "bedrooms \t float64\n",
      "beds \t float64\n",
      "bed_type \t object\n",
      "amenities \t object\n",
      "square_feet \t float64\n",
      "price \t float64\n",
      "weekly_price \t object\n",
      "monthly_price \t object\n",
      "security_deposit \t float64\n",
      "cleaning_fee \t object\n",
      "guests_included \t int64\n",
      "extra_people \t float64\n",
      "minimum_nights \t int64\n",
      "maximum_nights \t int64\n",
      "minimum_minimum_nights \t int64\n",
      "maximum_minimum_nights \t int64\n",
      "minimum_maximum_nights \t int64\n",
      "maximum_maximum_nights \t int64\n",
      "minimum_nights_avg_ntm \t float64\n",
      "maximum_nights_avg_ntm \t float64\n",
      "calendar_updated \t object\n",
      "has_availability \t object\n",
      "availability_30 \t int64\n",
      "availability_60 \t int64\n",
      "availability_90 \t int64\n",
      "availability_365 \t int64\n",
      "calendar_last_scraped \t object\n",
      "number_of_reviews \t int64\n",
      "number_of_reviews_ltm \t int64\n",
      "first_review \t object\n",
      "last_review \t object\n",
      "review_scores_rating \t float64\n",
      "review_scores_accuracy \t float64\n",
      "review_scores_cleanliness \t float64\n",
      "review_scores_checkin \t float64\n",
      "review_scores_communication \t float64\n",
      "review_scores_location \t float64\n",
      "review_scores_value \t float64\n",
      "requires_license \t object\n",
      "license \t object\n",
      "jurisdiction_names \t float64\n",
      "instant_bookable \t object\n",
      "is_business_travel_ready \t object\n",
      "cancellation_policy \t object\n",
      "require_guest_profile_picture \t object\n",
      "require_guest_phone_verification \t object\n",
      "calculated_host_listings_count \t int64\n",
      "calculated_host_listings_count_entire_homes \t int64\n",
      "calculated_host_listings_count_private_rooms \t int64\n",
      "calculated_host_listings_count_shared_rooms \t int64\n",
      "reviews_per_month \t float64\n"
     ]
    }
   ],
   "source": [
    "for k,v in zip(data.dtypes.index, data.dtypes):\n",
    "    print('%s \\t %s' %(k,v))"
   ]
  },
  {
   "cell_type": "code",
   "execution_count": 34,
   "metadata": {},
   "outputs": [
    {
     "data": {
      "text/plain": [
       "(33715, 63)"
      ]
     },
     "execution_count": 34,
     "metadata": {},
     "output_type": "execute_result"
    }
   ],
   "source": [
    "df = data.select_dtypes(include=np.number)\n",
    "selected = ['host_since', 'host_response_time', 'host_acceptance_rate', 'host_is_superhost', \n",
    "            'host_neighbourhood', 'host_listings_count', 'host_total_listings_count', 'neighbourhood', \n",
    "            'neighbourhood_cleansed', 'bedrooms', 'beds', 'bed_type', 'amenities', 'square_feet', \n",
    "            'weekly_price', 'monthly_price', 'security_deposit', 'security_deposit', 'guests_included', \n",
    "            'extra_people', 'minimum_nights', 'maximum_nights', 'number_of_reviews', 'number_of_reviews_ltm', \n",
    "            'first_review', 'review_scores_rating', 'review_scores_accuracy', 'review_scores_cleanliness', \n",
    "            'review_scores_checkin', 'review_scores_communication', 'review_scores_location', \n",
    "            'review_scores_value', 'cancellation_policy', 'require_guest_profile_picture', \n",
    "            'require_guest_phone_verification', 'reviews_per_month', 'price', 'room_type']\n",
    "\n",
    "cols = set(list(df.columns) + selected)\n",
    "df = data[list(cols)]\n",
    "df.shape"
   ]
  },
  {
   "cell_type": "markdown",
   "metadata": {},
   "source": [
    "Como podemos ver abaixo, a coluna 'amenities', comodidades em tradução livre, possui uma lista de strings. Acreditamos que comodidades podem afetar diretamente o preço de aluguel."
   ]
  },
  {
   "cell_type": "code",
   "execution_count": 35,
   "metadata": {},
   "outputs": [
    {
     "data": {
      "text/plain": [
       "0    {TV,\"Cable TV\",Internet,Wifi,\"Air conditioning...\n",
       "1    {TV,\"Cable TV\",Internet,Wifi,\"Air conditioning...\n",
       "2    {TV,\"Cable TV\",Internet,Wifi,\"Air conditioning...\n",
       "3    {TV,\"Cable TV\",Internet,Wifi,\"Air conditioning...\n",
       "4    {TV,\"Cable TV\",Wifi,\"Air conditioning\",Kitchen...\n",
       "Name: amenities, dtype: object"
      ]
     },
     "execution_count": 35,
     "metadata": {},
     "output_type": "execute_result"
    }
   ],
   "source": [
    "df['amenities'].head()"
   ]
  },
  {
   "cell_type": "markdown",
   "metadata": {},
   "source": [
    "Vamos criar uma nova coluna 'num_amenities' para representar o número de comodidades. Desse modo, partimos da hipótese de que um apartamento que forneça mais comodidades provavelmente terá um preço maior."
   ]
  },
  {
   "cell_type": "code",
   "execution_count": 116,
   "metadata": {},
   "outputs": [
    {
     "data": {
      "text/plain": [
       "0    33\n",
       "1    14\n",
       "2    25\n",
       "3    33\n",
       "4    41\n",
       "Name: num_amenities, dtype: int64"
      ]
     },
     "execution_count": 116,
     "metadata": {},
     "output_type": "execute_result"
    }
   ],
   "source": [
    "df['num_amenities'] = df['amenities'].apply(lambda x: len(x.split(',')))\n",
    "df['num_amenities'].head()"
   ]
  },
  {
   "cell_type": "markdown",
   "metadata": {},
   "source": [
    "Vamos agora analisar missing data. Primeiro, vamos avaliar a razão de missing data para cada coluna."
   ]
  },
  {
   "cell_type": "code",
   "execution_count": 37,
   "metadata": {},
   "outputs": [
    {
     "data": {
      "text/plain": [
       "neighbourhood                                   0.058075\n",
       "host_neighbourhood                              0.365297\n",
       "minimum_maximum_nights                          0.000000\n",
       "bathrooms                                       0.001602\n",
       "review_scores_cleanliness                       0.457808\n",
       "review_scores_accuracy                          0.457956\n",
       "jurisdiction_names                              1.000000\n",
       "calculated_host_listings_count_entire_homes     0.000000\n",
       "cancellation_policy                             0.000000\n",
       "security_deposit                                0.438381\n",
       "review_scores_rating                            0.457423\n",
       "maximum_nights_avg_ntm                          0.000000\n",
       "host_is_superhost                               0.000593\n",
       "amenities                                       0.000000\n",
       "medium_url                                      1.000000\n",
       "number_of_reviews                               0.000000\n",
       "bed_type                                        0.000000\n",
       "calculated_host_listings_count_shared_rooms     0.000000\n",
       "reviews_per_month                               0.432033\n",
       "guests_included                                 0.000000\n",
       "maximum_nights                                  0.000000\n",
       "calculated_host_listings_count_private_rooms    0.000000\n",
       "scrape_id                                       0.000000\n",
       "latitude                                        0.000000\n",
       "extra_people                                    0.000000\n",
       "minimum_nights                                  0.000000\n",
       "require_guest_phone_verification                0.000000\n",
       "thumbnail_url                                   1.000000\n",
       "minimum_nights_avg_ntm                          0.000000\n",
       "review_scores_communication                     0.457808\n",
       "                                                  ...   \n",
       "monthly_price                                   0.916209\n",
       "review_scores_checkin                           0.457986\n",
       "availability_365                                0.000000\n",
       "neighbourhood_group_cleansed                    1.000000\n",
       "room_type                                       0.000000\n",
       "neighbourhood_cleansed                          0.000000\n",
       "availability_90                                 0.000000\n",
       "xl_picture_url                                  1.000000\n",
       "maximum_maximum_nights                          0.000000\n",
       "review_scores_value                             0.457867\n",
       "number_of_reviews_ltm                           0.000000\n",
       "host_total_listings_count                       0.000593\n",
       "square_feet                                     0.985318\n",
       "host_listings_count                             0.000593\n",
       "first_review                                    0.432033\n",
       "host_acceptance_rate                            1.000000\n",
       "beds                                            0.001424\n",
       "availability_60                                 0.000000\n",
       "host_since                                      0.000593\n",
       "weekly_price                                    0.924485\n",
       "review_scores_location                          0.457897\n",
       "host_response_time                              0.362865\n",
       "longitude                                       0.000000\n",
       "id                                              0.000000\n",
       "price                                           0.000000\n",
       "accommodates                                    0.000000\n",
       "require_guest_profile_picture                   0.000000\n",
       "availability_30                                 0.000000\n",
       "bedrooms                                        0.001246\n",
       "num_amenities                                   0.000000\n",
       "Length: 64, dtype: float64"
      ]
     },
     "execution_count": 37,
     "metadata": {},
     "output_type": "execute_result"
    }
   ],
   "source": [
    "df.isnull().sum()/len(df)"
   ]
  },
  {
   "cell_type": "markdown",
   "metadata": {},
   "source": [
    "Podemos ver que há colunas em que todas as linhas são missing data. Portanto, vamos manter apenas colunas que possuem mais de 50% dos dados."
   ]
  },
  {
   "cell_type": "code",
   "execution_count": 38,
   "metadata": {},
   "outputs": [
    {
     "data": {
      "text/plain": [
       "neighbourhood                                   0.058075\n",
       "host_neighbourhood                              0.365297\n",
       "minimum_maximum_nights                          0.000000\n",
       "bathrooms                                       0.001602\n",
       "review_scores_cleanliness                       0.457808\n",
       "review_scores_accuracy                          0.457956\n",
       "calculated_host_listings_count_entire_homes     0.000000\n",
       "cancellation_policy                             0.000000\n",
       "security_deposit                                0.438381\n",
       "review_scores_rating                            0.457423\n",
       "maximum_nights_avg_ntm                          0.000000\n",
       "host_is_superhost                               0.000593\n",
       "amenities                                       0.000000\n",
       "number_of_reviews                               0.000000\n",
       "bed_type                                        0.000000\n",
       "calculated_host_listings_count_shared_rooms     0.000000\n",
       "reviews_per_month                               0.432033\n",
       "guests_included                                 0.000000\n",
       "maximum_nights                                  0.000000\n",
       "calculated_host_listings_count_private_rooms    0.000000\n",
       "scrape_id                                       0.000000\n",
       "latitude                                        0.000000\n",
       "extra_people                                    0.000000\n",
       "minimum_nights                                  0.000000\n",
       "require_guest_phone_verification                0.000000\n",
       "minimum_nights_avg_ntm                          0.000000\n",
       "review_scores_communication                     0.457808\n",
       "maximum_minimum_nights                          0.000000\n",
       "host_id                                         0.000000\n",
       "minimum_minimum_nights                          0.000000\n",
       "calculated_host_listings_count                  0.000000\n",
       "review_scores_checkin                           0.457986\n",
       "availability_365                                0.000000\n",
       "room_type                                       0.000000\n",
       "neighbourhood_cleansed                          0.000000\n",
       "availability_90                                 0.000000\n",
       "maximum_maximum_nights                          0.000000\n",
       "review_scores_value                             0.457867\n",
       "number_of_reviews_ltm                           0.000000\n",
       "host_total_listings_count                       0.000593\n",
       "host_listings_count                             0.000593\n",
       "first_review                                    0.432033\n",
       "beds                                            0.001424\n",
       "availability_60                                 0.000000\n",
       "host_since                                      0.000593\n",
       "review_scores_location                          0.457897\n",
       "host_response_time                              0.362865\n",
       "longitude                                       0.000000\n",
       "id                                              0.000000\n",
       "price                                           0.000000\n",
       "accommodates                                    0.000000\n",
       "require_guest_profile_picture                   0.000000\n",
       "availability_30                                 0.000000\n",
       "bedrooms                                        0.001246\n",
       "num_amenities                                   0.000000\n",
       "dtype: float64"
      ]
     },
     "execution_count": 38,
     "metadata": {},
     "output_type": "execute_result"
    }
   ],
   "source": [
    "df = df[df.columns[df.count(axis=0)/len(df) > 0.5]]\n",
    "df.isnull().sum()/len(df)"
   ]
  },
  {
   "cell_type": "markdown",
   "metadata": {},
   "source": [
    "Em seguida, vamos remover algumas colunas, transformar valores booleanos em numéricos, remover dados com missing data no campo 'neighbourhood'. Por fim, vamos realizar imputação de dados. Na literatura de Estatística, há várias técnicas de imputação de dados (média, regressão, múltipla). Neste momento, vamos simplemente imputar missing data com valor zero. Posteriormente, pretendemos avaliar o efeito de imputar com a média."
   ]
  },
  {
   "cell_type": "code",
   "execution_count": 39,
   "metadata": {},
   "outputs": [
    {
     "data": {
      "text/plain": [
       "neighbourhood                                   1.0\n",
       "bathrooms                                       1.0\n",
       "review_scores_cleanliness                       1.0\n",
       "review_scores_accuracy                          1.0\n",
       "calculated_host_listings_count_entire_homes     1.0\n",
       "review_scores_rating                            1.0\n",
       "host_is_superhost                               1.0\n",
       "number_of_reviews                               1.0\n",
       "bed_type                                        1.0\n",
       "calculated_host_listings_count_shared_rooms     1.0\n",
       "reviews_per_month                               1.0\n",
       "guests_included                                 1.0\n",
       "maximum_nights                                  1.0\n",
       "calculated_host_listings_count_private_rooms    1.0\n",
       "extra_people                                    1.0\n",
       "minimum_nights                                  1.0\n",
       "require_guest_phone_verification                1.0\n",
       "review_scores_communication                     1.0\n",
       "calculated_host_listings_count                  1.0\n",
       "review_scores_checkin                           1.0\n",
       "availability_365                                1.0\n",
       "room_type                                       1.0\n",
       "availability_90                                 1.0\n",
       "review_scores_value                             1.0\n",
       "number_of_reviews_ltm                           1.0\n",
       "host_total_listings_count                       1.0\n",
       "host_listings_count                             1.0\n",
       "first_review                                    1.0\n",
       "beds                                            1.0\n",
       "availability_60                                 1.0\n",
       "review_scores_location                          1.0\n",
       "price                                           1.0\n",
       "accommodates                                    1.0\n",
       "require_guest_profile_picture                   1.0\n",
       "availability_30                                 1.0\n",
       "bedrooms                                        1.0\n",
       "num_amenities                                   1.0\n",
       "dtype: float64"
      ]
     },
     "execution_count": 39,
     "metadata": {},
     "output_type": "execute_result"
    }
   ],
   "source": [
    "to_drop = ['id', 'security_deposit', 'minimum_nights_avg_ntm', 'maximum_maximum_nights', \n",
    "           'neighbourhood_cleansed', 'host_id', 'scrape_id', 'host_since', 'host_response_time', \n",
    "           'maximum_minimum_nights', 'latitude',  'minimum_maximum_nights', 'minimum_minimum_nights', \n",
    "           'cancellation_policy', 'host_neighbourhood', 'maximum_nights_avg_ntm', 'amenities', 'longitude']\n",
    "\n",
    "dff = df.drop(columns=to_drop)\n",
    "dff = dff.replace(['f','t'],[0,1])\n",
    "dff = dff[~dff['neighbourhood'].isna()]\n",
    "dff.fillna(0, inplace=True)\n",
    "\n",
    "dff.count(axis=0)/len(dff)"
   ]
  },
  {
   "cell_type": "markdown",
   "metadata": {},
   "source": [
    "Agora, temos um dataset onde não há missing data e contém 37 das 106 colunas e 31757 das 33715 linhas originais. Este dataset reduzido será utilizado na etapa seguinte."
   ]
  },
  {
   "cell_type": "code",
   "execution_count": 40,
   "metadata": {},
   "outputs": [
    {
     "data": {
      "text/plain": [
       "(31757, 37)"
      ]
     },
     "execution_count": 40,
     "metadata": {},
     "output_type": "execute_result"
    }
   ],
   "source": [
    "dff.to_csv('data2.csv', index=False)\n",
    "dff.shape\n"
   ]
  },
  {
   "cell_type": "markdown",
   "metadata": {},
   "source": [
    "# 2 - Análise Exploratória e Feature Engineering"
   ]
  },
  {
   "cell_type": "code",
   "execution_count": 130,
   "metadata": {},
   "outputs": [
    {
     "data": {
      "text/html": [
       "<div>\n",
       "<style scoped>\n",
       "    .dataframe tbody tr th:only-of-type {\n",
       "        vertical-align: middle;\n",
       "    }\n",
       "\n",
       "    .dataframe tbody tr th {\n",
       "        vertical-align: top;\n",
       "    }\n",
       "\n",
       "    .dataframe thead th {\n",
       "        text-align: right;\n",
       "    }\n",
       "</style>\n",
       "<table border=\"1\" class=\"dataframe\">\n",
       "  <thead>\n",
       "    <tr style=\"text-align: right;\">\n",
       "      <th></th>\n",
       "      <th>bed_type</th>\n",
       "      <th>guests_included</th>\n",
       "      <th>room_type</th>\n",
       "      <th>bathrooms</th>\n",
       "      <th>price</th>\n",
       "      <th>neighbourhood</th>\n",
       "      <th>host_total_listings_count</th>\n",
       "      <th>require_guest_phone_verification</th>\n",
       "      <th>availability_30</th>\n",
       "      <th>review_scores_value</th>\n",
       "      <th>...</th>\n",
       "      <th>availability_60</th>\n",
       "      <th>host_is_superhost</th>\n",
       "      <th>number_of_reviews_ltm</th>\n",
       "      <th>review_scores_location</th>\n",
       "      <th>availability_365</th>\n",
       "      <th>minimum_nights</th>\n",
       "      <th>availability_90</th>\n",
       "      <th>host_listings_count</th>\n",
       "      <th>calculated_host_listings_count_private_rooms</th>\n",
       "      <th>num_amenities</th>\n",
       "    </tr>\n",
       "  </thead>\n",
       "  <tbody>\n",
       "    <tr>\n",
       "      <th>0</th>\n",
       "      <td>Real Bed</td>\n",
       "      <td>2</td>\n",
       "      <td>Entire home/apt</td>\n",
       "      <td>1.0</td>\n",
       "      <td>332.0</td>\n",
       "      <td>Copacabana</td>\n",
       "      <td>2.0</td>\n",
       "      <td>0</td>\n",
       "      <td>23</td>\n",
       "      <td>9.0</td>\n",
       "      <td>...</td>\n",
       "      <td>31</td>\n",
       "      <td>1.0</td>\n",
       "      <td>27</td>\n",
       "      <td>10.0</td>\n",
       "      <td>303</td>\n",
       "      <td>4</td>\n",
       "      <td>35</td>\n",
       "      <td>2.0</td>\n",
       "      <td>0</td>\n",
       "      <td>33</td>\n",
       "    </tr>\n",
       "    <tr>\n",
       "      <th>1</th>\n",
       "      <td>Real Bed</td>\n",
       "      <td>2</td>\n",
       "      <td>Entire home/apt</td>\n",
       "      <td>1.0</td>\n",
       "      <td>160.0</td>\n",
       "      <td>Copacabana</td>\n",
       "      <td>3.0</td>\n",
       "      <td>1</td>\n",
       "      <td>16</td>\n",
       "      <td>9.0</td>\n",
       "      <td>...</td>\n",
       "      <td>22</td>\n",
       "      <td>0.0</td>\n",
       "      <td>17</td>\n",
       "      <td>10.0</td>\n",
       "      <td>119</td>\n",
       "      <td>7</td>\n",
       "      <td>35</td>\n",
       "      <td>3.0</td>\n",
       "      <td>0</td>\n",
       "      <td>14</td>\n",
       "    </tr>\n",
       "    <tr>\n",
       "      <th>2</th>\n",
       "      <td>Real Bed</td>\n",
       "      <td>2</td>\n",
       "      <td>Entire home/apt</td>\n",
       "      <td>1.0</td>\n",
       "      <td>273.0</td>\n",
       "      <td>Ipanema</td>\n",
       "      <td>1.0</td>\n",
       "      <td>0</td>\n",
       "      <td>2</td>\n",
       "      <td>10.0</td>\n",
       "      <td>...</td>\n",
       "      <td>5</td>\n",
       "      <td>1.0</td>\n",
       "      <td>42</td>\n",
       "      <td>10.0</td>\n",
       "      <td>88</td>\n",
       "      <td>2</td>\n",
       "      <td>9</td>\n",
       "      <td>1.0</td>\n",
       "      <td>0</td>\n",
       "      <td>25</td>\n",
       "    </tr>\n",
       "    <tr>\n",
       "      <th>3</th>\n",
       "      <td>Real Bed</td>\n",
       "      <td>2</td>\n",
       "      <td>Entire home/apt</td>\n",
       "      <td>1.5</td>\n",
       "      <td>378.0</td>\n",
       "      <td>Ipanema</td>\n",
       "      <td>1.0</td>\n",
       "      <td>1</td>\n",
       "      <td>5</td>\n",
       "      <td>9.0</td>\n",
       "      <td>...</td>\n",
       "      <td>6</td>\n",
       "      <td>1.0</td>\n",
       "      <td>35</td>\n",
       "      <td>10.0</td>\n",
       "      <td>85</td>\n",
       "      <td>2</td>\n",
       "      <td>17</td>\n",
       "      <td>1.0</td>\n",
       "      <td>0</td>\n",
       "      <td>33</td>\n",
       "    </tr>\n",
       "    <tr>\n",
       "      <th>4</th>\n",
       "      <td>Real Bed</td>\n",
       "      <td>2</td>\n",
       "      <td>Entire home/apt</td>\n",
       "      <td>1.0</td>\n",
       "      <td>130.0</td>\n",
       "      <td>Copacabana</td>\n",
       "      <td>1.0</td>\n",
       "      <td>1</td>\n",
       "      <td>4</td>\n",
       "      <td>10.0</td>\n",
       "      <td>...</td>\n",
       "      <td>6</td>\n",
       "      <td>1.0</td>\n",
       "      <td>40</td>\n",
       "      <td>10.0</td>\n",
       "      <td>128</td>\n",
       "      <td>3</td>\n",
       "      <td>12</td>\n",
       "      <td>1.0</td>\n",
       "      <td>0</td>\n",
       "      <td>41</td>\n",
       "    </tr>\n",
       "    <tr>\n",
       "      <th>5</th>\n",
       "      <td>Real Bed</td>\n",
       "      <td>1</td>\n",
       "      <td>Private room</td>\n",
       "      <td>1.0</td>\n",
       "      <td>151.0</td>\n",
       "      <td>Copacabana</td>\n",
       "      <td>1.0</td>\n",
       "      <td>0</td>\n",
       "      <td>29</td>\n",
       "      <td>0.0</td>\n",
       "      <td>...</td>\n",
       "      <td>59</td>\n",
       "      <td>0.0</td>\n",
       "      <td>0</td>\n",
       "      <td>0.0</td>\n",
       "      <td>89</td>\n",
       "      <td>2</td>\n",
       "      <td>89</td>\n",
       "      <td>1.0</td>\n",
       "      <td>1</td>\n",
       "      <td>18</td>\n",
       "    </tr>\n",
       "    <tr>\n",
       "      <th>6</th>\n",
       "      <td>Real Bed</td>\n",
       "      <td>7</td>\n",
       "      <td>Entire home/apt</td>\n",
       "      <td>7.0</td>\n",
       "      <td>3581.0</td>\n",
       "      <td>Ipanema</td>\n",
       "      <td>7.0</td>\n",
       "      <td>0</td>\n",
       "      <td>14</td>\n",
       "      <td>9.0</td>\n",
       "      <td>...</td>\n",
       "      <td>31</td>\n",
       "      <td>1.0</td>\n",
       "      <td>23</td>\n",
       "      <td>10.0</td>\n",
       "      <td>311</td>\n",
       "      <td>2</td>\n",
       "      <td>43</td>\n",
       "      <td>7.0</td>\n",
       "      <td>2</td>\n",
       "      <td>41</td>\n",
       "    </tr>\n",
       "    <tr>\n",
       "      <th>7</th>\n",
       "      <td>Real Bed</td>\n",
       "      <td>1</td>\n",
       "      <td>Private room</td>\n",
       "      <td>1.0</td>\n",
       "      <td>80.0</td>\n",
       "      <td>Copacabana</td>\n",
       "      <td>2.0</td>\n",
       "      <td>0</td>\n",
       "      <td>2</td>\n",
       "      <td>10.0</td>\n",
       "      <td>...</td>\n",
       "      <td>2</td>\n",
       "      <td>1.0</td>\n",
       "      <td>21</td>\n",
       "      <td>10.0</td>\n",
       "      <td>2</td>\n",
       "      <td>3</td>\n",
       "      <td>2</td>\n",
       "      <td>2.0</td>\n",
       "      <td>1</td>\n",
       "      <td>45</td>\n",
       "    </tr>\n",
       "    <tr>\n",
       "      <th>8</th>\n",
       "      <td>Real Bed</td>\n",
       "      <td>8</td>\n",
       "      <td>Entire home/apt</td>\n",
       "      <td>3.5</td>\n",
       "      <td>848.0</td>\n",
       "      <td>Copacabana</td>\n",
       "      <td>6.0</td>\n",
       "      <td>0</td>\n",
       "      <td>12</td>\n",
       "      <td>6.0</td>\n",
       "      <td>...</td>\n",
       "      <td>42</td>\n",
       "      <td>0.0</td>\n",
       "      <td>0</td>\n",
       "      <td>9.0</td>\n",
       "      <td>194</td>\n",
       "      <td>2</td>\n",
       "      <td>72</td>\n",
       "      <td>6.0</td>\n",
       "      <td>0</td>\n",
       "      <td>21</td>\n",
       "    </tr>\n",
       "    <tr>\n",
       "      <th>9</th>\n",
       "      <td>Real Bed</td>\n",
       "      <td>2</td>\n",
       "      <td>Entire home/apt</td>\n",
       "      <td>1.0</td>\n",
       "      <td>189.0</td>\n",
       "      <td>Copacabana</td>\n",
       "      <td>48.0</td>\n",
       "      <td>0</td>\n",
       "      <td>12</td>\n",
       "      <td>9.0</td>\n",
       "      <td>...</td>\n",
       "      <td>20</td>\n",
       "      <td>0.0</td>\n",
       "      <td>13</td>\n",
       "      <td>10.0</td>\n",
       "      <td>296</td>\n",
       "      <td>3</td>\n",
       "      <td>34</td>\n",
       "      <td>48.0</td>\n",
       "      <td>0</td>\n",
       "      <td>32</td>\n",
       "    </tr>\n",
       "  </tbody>\n",
       "</table>\n",
       "<p>10 rows × 37 columns</p>\n",
       "</div>"
      ],
      "text/plain": [
       "   bed_type  guests_included        room_type  bathrooms   price  \\\n",
       "0  Real Bed                2  Entire home/apt        1.0   332.0   \n",
       "1  Real Bed                2  Entire home/apt        1.0   160.0   \n",
       "2  Real Bed                2  Entire home/apt        1.0   273.0   \n",
       "3  Real Bed                2  Entire home/apt        1.5   378.0   \n",
       "4  Real Bed                2  Entire home/apt        1.0   130.0   \n",
       "5  Real Bed                1     Private room        1.0   151.0   \n",
       "6  Real Bed                7  Entire home/apt        7.0  3581.0   \n",
       "7  Real Bed                1     Private room        1.0    80.0   \n",
       "8  Real Bed                8  Entire home/apt        3.5   848.0   \n",
       "9  Real Bed                2  Entire home/apt        1.0   189.0   \n",
       "\n",
       "  neighbourhood  host_total_listings_count  require_guest_phone_verification  \\\n",
       "0    Copacabana                        2.0                                 0   \n",
       "1    Copacabana                        3.0                                 1   \n",
       "2       Ipanema                        1.0                                 0   \n",
       "3       Ipanema                        1.0                                 1   \n",
       "4    Copacabana                        1.0                                 1   \n",
       "5    Copacabana                        1.0                                 0   \n",
       "6       Ipanema                        7.0                                 0   \n",
       "7    Copacabana                        2.0                                 0   \n",
       "8    Copacabana                        6.0                                 0   \n",
       "9    Copacabana                       48.0                                 0   \n",
       "\n",
       "   availability_30  review_scores_value      ...        availability_60  \\\n",
       "0               23                  9.0      ...                     31   \n",
       "1               16                  9.0      ...                     22   \n",
       "2                2                 10.0      ...                      5   \n",
       "3                5                  9.0      ...                      6   \n",
       "4                4                 10.0      ...                      6   \n",
       "5               29                  0.0      ...                     59   \n",
       "6               14                  9.0      ...                     31   \n",
       "7                2                 10.0      ...                      2   \n",
       "8               12                  6.0      ...                     42   \n",
       "9               12                  9.0      ...                     20   \n",
       "\n",
       "   host_is_superhost  number_of_reviews_ltm  review_scores_location  \\\n",
       "0                1.0                     27                    10.0   \n",
       "1                0.0                     17                    10.0   \n",
       "2                1.0                     42                    10.0   \n",
       "3                1.0                     35                    10.0   \n",
       "4                1.0                     40                    10.0   \n",
       "5                0.0                      0                     0.0   \n",
       "6                1.0                     23                    10.0   \n",
       "7                1.0                     21                    10.0   \n",
       "8                0.0                      0                     9.0   \n",
       "9                0.0                     13                    10.0   \n",
       "\n",
       "   availability_365  minimum_nights  availability_90  host_listings_count  \\\n",
       "0               303               4               35                  2.0   \n",
       "1               119               7               35                  3.0   \n",
       "2                88               2                9                  1.0   \n",
       "3                85               2               17                  1.0   \n",
       "4               128               3               12                  1.0   \n",
       "5                89               2               89                  1.0   \n",
       "6               311               2               43                  7.0   \n",
       "7                 2               3                2                  2.0   \n",
       "8               194               2               72                  6.0   \n",
       "9               296               3               34                 48.0   \n",
       "\n",
       "   calculated_host_listings_count_private_rooms  num_amenities  \n",
       "0                                             0             33  \n",
       "1                                             0             14  \n",
       "2                                             0             25  \n",
       "3                                             0             33  \n",
       "4                                             0             41  \n",
       "5                                             1             18  \n",
       "6                                             2             41  \n",
       "7                                             1             45  \n",
       "8                                             0             21  \n",
       "9                                             0             32  \n",
       "\n",
       "[10 rows x 37 columns]"
      ]
     },
     "execution_count": 130,
     "metadata": {},
     "output_type": "execute_result"
    }
   ],
   "source": [
    "import warnings\n",
    "warnings.filterwarnings('ignore')\n",
    "\n",
    "import pandas as pd\n",
    "import numpy as np\n",
    "np.random.seed(0)\n",
    "\n",
    "import math\n",
    "\n",
    "from scipy import stats\n",
    "\n",
    "import matplotlib.pyplot as plt\n",
    "import seaborn as sns\n",
    "\n",
    "from sklearn import metrics\n",
    "from sklearn.model_selection import train_test_split\n",
    "\n",
    "from sklearn.model_selection import GridSearchCV\n",
    "\n",
    "from sklearn.linear_model import LinearRegression\n",
    "from sklearn.preprocessing import PolynomialFeatures\n",
    "from sklearn.linear_model import Ridge\n",
    "\n",
    "from sklearn.neighbors import KNeighborsRegressor\n",
    "\n",
    "from xgboost import XGBRegressor\n",
    "from xgboost import plot_importance\n",
    " \n",
    "from sklearn.ensemble import StackingRegressor\n",
    "\n",
    "name = 'data/data.csv'\n",
    "data = pd.read_csv(name, sep=',', header=0)\n",
    "\n",
    "y_name = 'price'\n",
    "\n",
    "data.head(n=10)"
   ]
  },
  {
   "cell_type": "markdown",
   "metadata": {},
   "source": [
    "    Como as colunas price, bedrooms e room possuem instância com valores igual a zero, vamos removê-las."
   ]
  },
  {
   "cell_type": "code",
   "execution_count": 131,
   "metadata": {},
   "outputs": [
    {
     "name": "stdout",
     "output_type": "stream",
     "text": [
      "#price 7 \t #bedrooms 1882 \t #beds 413\n"
     ]
    }
   ],
   "source": [
    "print('#price %d \\t #bedrooms %d \\t #beds %d' %(np.sum(data['price'] == 0), \n",
    "                                                 np.sum(data['bedrooms'] == 0), \n",
    "                                                 np.sum(data['beds'] == 0)))\n",
    "\n",
    "data = data[data[y_name] > 0]\n",
    "data = data[data['beds'] != 0]\n",
    "data = data[data['bedrooms'] != 0]"
   ]
  },
  {
   "cell_type": "markdown",
   "metadata": {},
   "source": [
    "Vamos agora particionar o dataset em Treino, Validação e Teste. A saber, o treino corresponde a 80\\% enquanto o teste corresponde a 20\\% do dataset. O treino, por sua vez, é novamente dividido em treino final (90%) e validação (10%)."
   ]
  },
  {
   "cell_type": "code",
   "execution_count": 132,
   "metadata": {},
   "outputs": [],
   "source": [
    "X_train, X_test = train_test_split(data, test_size=0.2, random_state=0)\n",
    "X_train, X_valid = train_test_split(X_train, test_size=0.1, random_state=0)"
   ]
  },
  {
   "cell_type": "markdown",
   "metadata": {},
   "source": [
    "Vamos explorar a variável price. A média está em 675.86, mediana em 298, desvio padrão em 1691.99, apresentando uma amplitude (diferença entre máximo e mínimo) de 41953. O histograma nos permite visualizar a grande concentração em valores bem abaixo de 10000."
   ]
  },
  {
   "cell_type": "code",
   "execution_count": 133,
   "metadata": {},
   "outputs": [
    {
     "name": "stdout",
     "output_type": "stream",
     "text": [
      "count    21246.000000\n",
      "mean       675.760802\n",
      "std       1691.992415\n",
      "min         29.000000\n",
      "25%        160.000000\n",
      "50%        298.000000\n",
      "75%        651.000000\n",
      "max      41982.000000\n",
      "Name: price, dtype: float64\n"
     ]
    },
    {
     "data": {
      "text/plain": [
       "Text(0.5,1,'Price Histogram')"
      ]
     },
     "execution_count": 133,
     "metadata": {},
     "output_type": "execute_result"
    },
    {
     "data": {
      "image/png": "[encoded data removed]",
      "text/plain": [
       "<matplotlib.figure.Figure at 0x7fcf36e084e0>"
      ]
     },
     "metadata": {
      "needs_background": "light"
     },
     "output_type": "display_data"
    }
   ],
   "source": [
    "print(X_train[y_name].describe())\n",
    "\n",
    "plt.hist(X_train[y_name])\n",
    "plt.title('Price Histogram')"
   ]
  },
  {
   "cell_type": "markdown",
   "metadata": {},
   "source": [
    "Vamos explorar a variável 'review_scores_rating' considerando os valores que não foram imputados. Acreditamos que esta variável está associada com as notas recebidas pelos anfitriões. A média está em 94.88, mediana 98 e desvio padrão 8.94. Isso mostra que boa parte desses dados possuem uma avaliação muito positiva."
   ]
  },
  {
   "cell_type": "code",
   "execution_count": 134,
   "metadata": {},
   "outputs": [
    {
     "data": {
      "text/plain": [
       "count    11659.000000\n",
       "mean        94.881894\n",
       "std          8.946527\n",
       "min         20.000000\n",
       "25%         93.000000\n",
       "50%         98.000000\n",
       "75%        100.000000\n",
       "max        100.000000\n",
       "Name: review_scores_rating, dtype: float64"
      ]
     },
     "execution_count": 134,
     "metadata": {},
     "output_type": "execute_result"
    }
   ],
   "source": [
    "X_train.loc[X_train['review_scores_rating'] > 0, 'review_scores_rating'].describe()\n",
    "    "
   ]
  },
  {
   "cell_type": "markdown",
   "metadata": {},
   "source": [
    "Analisando a média dos preços por neighbourhood, pode-se concluir que há uma grande variação entre preços. Apesar de não conhecer o RJ, ao buscar dados sobre alguns dos bairros no Google, é possível concluir que quanto mais alto o preço médio, mais nobre é o bairro. Por exemplo, o bairro Cascadura, o qual ocupa posiçõa 1 na lista, possui IDH 0,83, enquanto o bairro Coelho Neto pssui IDH 0,80."
   ]
  },
  {
   "cell_type": "code",
   "execution_count": 135,
   "metadata": {},
   "outputs": [
    {
     "name": "stdout",
     "output_type": "stream",
     "text": [
      "neighbourhood\n",
      "Cascadura                   3447.545455\n",
      "Joá                         2400.283582\n",
      "Deodoro                     2348.500000\n",
      "São Conrado                 1989.011628\n",
      "Engenheiro Leal             1499.000000\n",
      "Ricardo de Albuquerque      1308.750000\n",
      "Barra de Guaratiba          1238.944444\n",
      "Lagoa                       1039.080169\n",
      "Vaz Lobo                    1024.500000\n",
      "Barra da Tijuca             1008.401600\n",
      "Santo Cristo                 953.444444\n",
      "Anchieta                     934.666667\n",
      "Jardim Botânico              932.000000\n",
      "Andaraí                      847.261538\n",
      "Gávea                        812.510309\n",
      "Leblon                       806.793037\n",
      "Recreio dos Bandeirantes     792.489543\n",
      "Vidigal                      762.942857\n",
      "Benfica                      715.400000\n",
      "Urca                         702.294118\n",
      "Maracanã                     695.666667\n",
      "Ipanema                      688.398190\n",
      "Leme                         666.282238\n",
      "Cosme Velho                  618.831169\n",
      "Tijuca                       543.058027\n",
      "Vila Isabel                  539.396552\n",
      "Vincente de Carvalho         537.400000\n",
      "Santa Teresa                 527.983308\n",
      "Todos os Santos              525.838710\n",
      "Copacabana                   515.309577\n",
      "                               ...     \n",
      "Lapa                         280.680934\n",
      "Maria da Graça               270.555556\n",
      "Sampaio                      269.750000\n",
      "Saúde                        252.333333\n",
      "Bento Ribeiro                246.100000\n",
      "Inhaúma                      244.555556\n",
      "Marechal Hermes              240.357143\n",
      "Engenho da Rainha            224.200000\n",
      "Lins de Vasconcelos          222.000000\n",
      "Tomás Coelho                 213.333333\n",
      "Del Castilho                 207.526316\n",
      "Parada de Lucas              202.400000\n",
      "Estacio                      192.849057\n",
      "Penha Circular               190.125000\n",
      "Pilares                      181.200000\n",
      "Ramos                        168.000000\n",
      "Cordovil                     138.500000\n",
      "Olaria                       117.428571\n",
      "Parque Anchieta              116.111111\n",
      "Penha                        112.333333\n",
      "Brás de Pina                 110.000000\n",
      "Rocha Miranda                101.000000\n",
      "Vila Kosmos                  101.000000\n",
      "Jacaré                        88.500000\n",
      "Colégio                       80.000000\n",
      "Barros Filho                  78.800000\n",
      "Honório Gurgel                76.000000\n",
      "Catumbi                       75.500000\n",
      "Mangueira                     50.000000\n",
      "Coelho Neto                   42.000000\n",
      "Name: price, Length: 96, dtype: float64\n"
     ]
    }
   ],
   "source": [
    "print(X_train.groupby('neighbourhood')[y_name].agg('mean').sort_values(ascending=False))"
   ]
  },
  {
   "cell_type": "markdown",
   "metadata": {},
   "source": [
    "Como a variável neighbourhood é categórica, vamos transformá-la em uma variável em numérica. Para esse fim, cada neighbourhood será substituído pela sua posição no vetor ordenado crescentemente com base na média dos preços daquele bairro. Desse modo, o valor número associado a um bairro é diretamente proporcional à sua média e, então, à sua posição no vetor ordenado."
   ]
  },
  {
   "cell_type": "code",
   "execution_count": 136,
   "metadata": {},
   "outputs": [],
   "source": [
    "labels = data.groupby('neighbourhood')[y_name].agg('mean').sort_values(ascending=True).index\n",
    "_map = { v: (k+1) for k,v in enumerate(labels)}\n",
    "replace_map = {'neighbourhood' : _map}\n",
    "\n",
    "X_train.replace(replace_map, inplace=True)\n",
    "X_valid.replace(replace_map, inplace=True)\n",
    "X_test.replace(replace_map, inplace=True)"
   ]
  },
  {
   "cell_type": "markdown",
   "metadata": {},
   "source": [
    "Analisando a variável categórica 'bed_type' podemos ver que há uma correlação positiva entre o preço médio e a qualidade da cama. Vamos, então, transformar a variável categórica 'bed_type' em uma variável numérica, em que seu valor é diretamente proporcional à media do preço cobrado."
   ]
  },
  {
   "cell_type": "code",
   "execution_count": 137,
   "metadata": {},
   "outputs": [
    {
     "name": "stdout",
     "output_type": "stream",
     "text": [
      "bed_type\n",
      "Real Bed         679.286919\n",
      "Couch            581.400000\n",
      "Airbed           401.441176\n",
      "Pull-out Sofa    394.311765\n",
      "Futon            308.928571\n",
      "Name: price, dtype: float64\n"
     ]
    }
   ],
   "source": [
    "print(X_train.groupby('bed_type')[y_name].agg('mean').sort_values(ascending=False))\n",
    "\n",
    "replace_map = {'bed_type' : {'Futon': 1, 'Pull-out Sofa': 2, 'Airbed': 3, 'Couch': 4, 'Real Bed': 5}}\n",
    "X_train.replace(replace_map, inplace=True)\n",
    "X_valid.replace(replace_map, inplace=True)\n",
    "X_test.replace(replace_map, inplace=True)"
   ]
  },
  {
   "cell_type": "markdown",
   "metadata": {},
   "source": [
    "Analisando a variável categórica 'room_type', podemos ver que há uma correlação positiva entre a qualidade do quarto e o preço médio. Portanto, similar à variável 'bed_type', vamos  transformar a variável categórica 'room_type' em uma variável numérica, em que seu valor é diretamente proporcional à media do preço cobrado."
   ]
  },
  {
   "cell_type": "code",
   "execution_count": 138,
   "metadata": {},
   "outputs": [
    {
     "name": "stdout",
     "output_type": "stream",
     "text": [
      "room_type\n",
      "Entire home/apt    838.349697\n",
      "Hotel room         704.676768\n",
      "Private room       269.816712\n",
      "Shared room        251.660000\n",
      "Name: price, dtype: float64\n"
     ]
    }
   ],
   "source": [
    "print(X_train.groupby('room_type')[y_name].agg('mean').sort_values(ascending=False))\n",
    "\n",
    "replace_map = {'room_type' : {'Shared room': 1, 'Private room': 2, 'Hotel room': 3, 'Entire home/apt': 4}}\n",
    "X_train.replace(replace_map, inplace=True)\n",
    "X_valid.replace(replace_map, inplace=True)\n",
    "X_test.replace(replace_map, inplace=True)"
   ]
  },
  {
   "cell_type": "markdown",
   "metadata": {},
   "source": [
    "Ao analisar a correlação linear de Pearson entre a variável de resposta e as variáveis preditoras, podemos ver que aproximadamente 43% das variáveis preditoras possuem coeficiente de correlação em módulo maior que 0.1, lembrando que o coeficiente de correlação em questão varia de -1 a 1. Selecionado aquelas variáveis com coeficiente em módulo maior que 0.1 e plotando um pairplot, não é possível ver uma correlação lienar clara entre as variáveis."
   ]
  },
  {
   "cell_type": "code",
   "execution_count": 139,
   "metadata": {},
   "outputs": [
    {
     "name": "stdout",
     "output_type": "stream",
     "text": [
      "num. coor > 0.1: \t 0.432432\n",
      "bed_type                                        0.018938\n",
      "guests_included                                 0.054642\n",
      "room_type                                       0.149810\n",
      "bathrooms                                       0.365941\n",
      "price                                           1.000000\n",
      "neighbourhood                                   0.133139\n",
      "host_total_listings_count                       0.039980\n",
      "require_guest_phone_verification                0.025919\n",
      "availability_30                                 0.008093\n",
      "review_scores_value                             0.187602\n",
      "calculated_host_listings_count                  0.022006\n",
      "accommodates                                    0.284890\n",
      "review_scores_accuracy                          0.188722\n",
      "require_guest_profile_picture                   0.024975\n",
      "maximum_nights                                  0.001551\n",
      "review_scores_checkin                           0.189241\n",
      "number_of_reviews                               0.086455\n",
      "review_scores_rating                            0.185248\n",
      "beds                                            0.206902\n",
      "review_scores_cleanliness                       0.186996\n",
      "calculated_host_listings_count_entire_homes     0.029274\n",
      "extra_people                                    0.054739\n",
      "calculated_host_listings_count_shared_rooms     0.033025\n",
      "review_scores_communication                     0.186863\n",
      "reviews_per_month                               0.118277\n",
      "bedrooms                                        0.346454\n",
      "availability_60                                 0.004525\n",
      "host_is_superhost                               0.039833\n",
      "number_of_reviews_ltm                           0.102608\n",
      "review_scores_location                          0.186995\n",
      "availability_365                                0.009774\n",
      "minimum_nights                                  0.031132\n",
      "availability_90                                 0.002932\n",
      "host_listings_count                             0.039980\n",
      "calculated_host_listings_count_private_rooms    0.084312\n",
      "num_amenities                                   0.039098\n",
      "Name: price, dtype: float64\n"
     ]
    },
    {
     "data": {
      "image/png": "[encoded data removed]",
      "text/plain": [
       "<matplotlib.figure.Figure at 0x7fcf36648e48>"
      ]
     },
     "metadata": {
      "needs_background": "light"
     },
     "output_type": "display_data"
    }
   ],
   "source": [
    "corrs = X_train.corr()[y_name].apply(abs)\n",
    "\n",
    "threshold = 0.1\n",
    "labels = corrs[corrs > threshold].index\n",
    "\n",
    "print('num. coor > %.1f: \\t %f' %(threshold, len(labels)/X_train.shape[1]))\n",
    "print(corrs)\n",
    "\n",
    "\n",
    "x_vars = list(labels)\n",
    "x_vars.remove(y_name)\n",
    "y_vars = [y_name]\n",
    "\n",
    "pair_plot = sns.pairplot(X_train,  y_vars = y_vars, x_vars = x_vars)"
   ]
  },
  {
   "cell_type": "markdown",
   "metadata": {},
   "source": [
    "Deste modo, vamos remover todas as variáveis cujo coeficiente de correlação em módulo seja inferior a 0.01."
   ]
  },
  {
   "cell_type": "code",
   "execution_count": 140,
   "metadata": {},
   "outputs": [
    {
     "name": "stdout",
     "output_type": "stream",
     "text": [
      "['availability_30', 'maximum_nights', 'availability_60', 'availability_365', 'availability_90', 'first_review']\n"
     ]
    }
   ],
   "source": [
    "cols = list(corrs[corrs < 0.01].index)\n",
    "cols.append('first_review')\n",
    "print(cols)\n",
    "\n",
    "X_train.drop(columns=cols, inplace=True)\n",
    "X_valid.drop(columns=cols, inplace=True)\n",
    "X_test.drop(columns=cols, inplace=True)\n",
    "\n",
    "assert X_train.isna().sum().sum() == 0\n",
    "assert X_valid.isna().sum().sum() == 0\n",
    "assert X_test.isna().sum().sum() == 0"
   ]
  },
  {
   "cell_type": "markdown",
   "metadata": {},
   "source": [
    "A remoção de outliers é de fundamental importância. É sabido que, supondo uma distribuição Normal dos dados, aproximadamente 95% dos dados reside dentro de duas unidades de desvio padrão. Portanto, vamos adotar esse critério para a remoção de outliers, isto é, todos os dados que estão fora da região supracitada. Para isso, vamos transformar a variável de resposta para uma log para, então, se aproximar de uma distribuição normal.\n",
    "\n",
    "Em seguida, vamos ajustar a base de treino, teste e validação."
   ]
  },
  {
   "cell_type": "code",
   "execution_count": 141,
   "metadata": {},
   "outputs": [
    {
     "data": {
      "image/png": "[encoded data removed]",
      "text/plain": [
       "<matplotlib.figure.Figure at 0x7fcf30166f98>"
      ]
     },
     "metadata": {
      "needs_background": "light"
     },
     "output_type": "display_data"
    }
   ],
   "source": [
    "plt.hist(X_train['price'].apply(math.log))\n",
    "plt.title('log(Price)')\n",
    "\n",
    "idxs = (np.abs(stats.zscore(X_train['price'])) <= 2)\n",
    "X_train = X_train[idxs]\n",
    "\n",
    "Y_train = X_train[y_name]\n",
    "Y_test = X_test[y_name]\n",
    "Y_valid = X_valid[y_name]\n",
    "\n",
    "X_train.drop(columns=[y_name], inplace=True)\n",
    "X_test.drop(columns=[y_name], inplace=True)\n",
    "X_valid.drop(columns=[y_name], inplace=True)"
   ]
  },
  {
   "cell_type": "markdown",
   "metadata": {},
   "source": [
    "# 3 - Modelos"
   ]
  },
  {
   "cell_type": "code",
   "execution_count": 142,
   "metadata": {},
   "outputs": [],
   "source": [
    "def MAPE(y_true, y_pred):\n",
    "    return np.mean(np.abs((y_true - y_pred)/y_true))*100"
   ]
  },
  {
   "cell_type": "markdown",
   "metadata": {},
   "source": [
    "## 3.1 - Weakest baseline: Mean"
   ]
  },
  {
   "cell_type": "code",
   "execution_count": 143,
   "metadata": {},
   "outputs": [
    {
     "name": "stdout",
     "output_type": "stream",
     "text": [
      "Mean RMSE: 1755.09\n",
      "Mean MAPE: 167.55\n"
     ]
    }
   ],
   "source": [
    "Y_pred = np.repeat(np.mean(Y_train), len(Y_test))\n",
    "MSE = metrics.mean_squared_error(Y_test, Y_pred)\n",
    "print('Mean RMSE: %.2f'%(np.sqrt(MSE)))\n",
    "print('Mean MAPE: %.2f'%(MAPE(Y_test, Y_pred)))"
   ]
  },
  {
   "cell_type": "markdown",
   "metadata": {},
   "source": [
    "## 3.2 - Regressão Linear"
   ]
  },
  {
   "cell_type": "code",
   "execution_count": 144,
   "metadata": {},
   "outputs": [
    {
     "name": "stdout",
     "output_type": "stream",
     "text": [
      "R2: 0.42\n",
      "LR RMSE: 1755.09\n",
      "LR MAPE: 167.55\n"
     ]
    }
   ],
   "source": [
    "lr = LinearRegression().fit(X_train, Y_train)\n",
    "r2 = lr.score(X_train, Y_train)\n",
    "print('R2: %.2f' %(r2))\n",
    "MSE = metrics.mean_squared_error(Y_test, Y_pred)\n",
    "print('LR RMSE: %.2f' %(np.sqrt(MSE)))\n",
    "print('LR MAPE: %.2f'%(MAPE(Y_test, Y_pred)))"
   ]
  },
  {
   "cell_type": "markdown",
   "metadata": {},
   "source": [
    "## 3.3 - KNN"
   ]
  },
  {
   "cell_type": "code",
   "execution_count": 147,
   "metadata": {},
   "outputs": [
    {
     "name": "stdout",
     "output_type": "stream",
     "text": [
      "KNN RMSE: 1618.33\n",
      "KNN MAPE: 79.26\n"
     ]
    }
   ],
   "source": [
    "grid_params = {\n",
    "\t'n_neighbors': [1, 5, 10],\n",
    "    'weights': ['uniform', 'distance'],            \n",
    "}\n",
    "\n",
    "\n",
    "knn = GridSearchCV(estimator=KNeighborsRegressor(), param_grid=grid_params, cv=2)\n",
    "grid_results = knn.fit(X_train, Y_train)\n",
    "\n",
    "Y_pred = knn.predict(X_test)\n",
    "RMSE_knn = np.sqrt(metrics.mean_squared_error(Y_test, Y_pred))\n",
    "print('KNN RMSE: %.2f' %(RMSE_knn))\n",
    "print('KNN MAPE: %.2f'%(MAPE(Y_test, Y_pred)))"
   ]
  },
  {
   "cell_type": "markdown",
   "metadata": {},
   "source": [
    "## 3.4 - Regressão Linear Polinomial"
   ]
  },
  {
   "cell_type": "code",
   "execution_count": 148,
   "metadata": {},
   "outputs": [
    {
     "name": "stdout",
     "output_type": "stream",
     "text": [
      "R2: 0.49\n",
      "Poly RMSE: 1695.15\n",
      "Poly MAPE: 81.86\n"
     ]
    }
   ],
   "source": [
    "results = []\n",
    "for d in range(2,3):\n",
    "    poly = PolynomialFeatures(degree=d, interaction_only=True, include_bias = True)\n",
    "    X_train_poly = poly.fit_transform(X_train)\n",
    "    X_valid_poly = poly.fit_transform(X_valid)\n",
    "    \n",
    "    \n",
    "    reg_poly =  LinearRegression().fit(X_train_poly, Y_train)\n",
    "        \n",
    "    Y_pred = reg_poly.predict(X_valid_poly)\n",
    "    MSE = metrics.mean_squared_error(Y_valid, Y_pred)\n",
    "    results.append((np.sqrt(MSE), d))\n",
    "\n",
    "results.sort()\n",
    "best_d = results[0][1]\n",
    "\n",
    "poly = PolynomialFeatures(degree=best_d, interaction_only=True, include_bias = True)\n",
    "X_train_poly = poly.fit_transform(X_train)\n",
    "X_test_poly = poly.fit_transform(X_test)\n",
    "\n",
    "lr_poly =  LinearRegression().fit(X_train_poly, Y_train)\n",
    "r2 = lr_poly.score(X_train_poly, Y_train)\n",
    "Y_pred = lr_poly.predict(X_test_poly)\n",
    "print('R2: %.2f' %(r2)) \n",
    "MSE = metrics.mean_squared_error(Y_test, Y_pred)\n",
    "print('Poly RMSE: %.2f' %(np.sqrt(MSE)))\n",
    "print('Poly MAPE: %.2f'%(MAPE(Y_test, Y_pred)))"
   ]
  },
  {
   "cell_type": "markdown",
   "metadata": {},
   "source": [
    "## 3.5 - XGBoost"
   ]
  },
  {
   "cell_type": "code",
   "execution_count": 149,
   "metadata": {},
   "outputs": [
    {
     "name": "stdout",
     "output_type": "stream",
     "text": [
      "Fitting 2 folds for each of 32 candidates, totalling 64 fits\n",
      "[21:56:13] WARNING: /workspace/src/objective/regression_obj.cu:152: reg:linear is now deprecated in favor of reg:squarederror.\n"
     ]
    },
    {
     "name": "stderr",
     "output_type": "stream",
     "text": [
      "[Parallel(n_jobs=1)]: Using backend SequentialBackend with 1 concurrent workers.\n"
     ]
    },
    {
     "name": "stdout",
     "output_type": "stream",
     "text": [
      "[21:56:18] WARNING: /workspace/src/objective/regression_obj.cu:152: reg:linear is now deprecated in favor of reg:squarederror.\n",
      "[21:56:24] WARNING: /workspace/src/objective/regression_obj.cu:152: reg:linear is now deprecated in favor of reg:squarederror.\n",
      "[21:56:28] WARNING: /workspace/src/objective/regression_obj.cu:152: reg:linear is now deprecated in favor of reg:squarederror.\n",
      "[21:56:33] WARNING: /workspace/src/objective/regression_obj.cu:152: reg:linear is now deprecated in favor of reg:squarederror.\n",
      "[21:56:43] WARNING: /workspace/src/objective/regression_obj.cu:152: reg:linear is now deprecated in favor of reg:squarederror.\n",
      "[21:56:53] WARNING: /workspace/src/objective/regression_obj.cu:152: reg:linear is now deprecated in favor of reg:squarederror.\n",
      "[21:57:02] WARNING: /workspace/src/objective/regression_obj.cu:152: reg:linear is now deprecated in favor of reg:squarederror.\n",
      "[21:57:11] WARNING: /workspace/src/objective/regression_obj.cu:152: reg:linear is now deprecated in favor of reg:squarederror.\n",
      "[21:57:32] WARNING: /workspace/src/objective/regression_obj.cu:152: reg:linear is now deprecated in favor of reg:squarederror.\n",
      "[21:57:52] WARNING: /workspace/src/objective/regression_obj.cu:152: reg:linear is now deprecated in favor of reg:squarederror.\n",
      "[21:58:11] WARNING: /workspace/src/objective/regression_obj.cu:152: reg:linear is now deprecated in favor of reg:squarederror.\n",
      "[21:58:30] WARNING: /workspace/src/objective/regression_obj.cu:152: reg:linear is now deprecated in favor of reg:squarederror.\n",
      "[21:59:10] WARNING: /workspace/src/objective/regression_obj.cu:152: reg:linear is now deprecated in favor of reg:squarederror.\n",
      "[21:59:50] WARNING: /workspace/src/objective/regression_obj.cu:152: reg:linear is now deprecated in favor of reg:squarederror.\n",
      "[22:00:25] WARNING: /workspace/src/objective/regression_obj.cu:152: reg:linear is now deprecated in favor of reg:squarederror.\n",
      "[22:01:01] WARNING: /workspace/src/objective/regression_obj.cu:152: reg:linear is now deprecated in favor of reg:squarederror.\n",
      "[22:01:06] WARNING: /workspace/src/objective/regression_obj.cu:152: reg:linear is now deprecated in favor of reg:squarederror.\n",
      "[22:01:11] WARNING: /workspace/src/objective/regression_obj.cu:152: reg:linear is now deprecated in favor of reg:squarederror.\n",
      "[22:01:16] WARNING: /workspace/src/objective/regression_obj.cu:152: reg:linear is now deprecated in favor of reg:squarederror.\n",
      "[22:01:20] WARNING: /workspace/src/objective/regression_obj.cu:152: reg:linear is now deprecated in favor of reg:squarederror.\n",
      "[22:01:30] WARNING: /workspace/src/objective/regression_obj.cu:152: reg:linear is now deprecated in favor of reg:squarederror.\n",
      "[22:01:40] WARNING: /workspace/src/objective/regression_obj.cu:152: reg:linear is now deprecated in favor of reg:squarederror.\n",
      "[22:01:49] WARNING: /workspace/src/objective/regression_obj.cu:152: reg:linear is now deprecated in favor of reg:squarederror.\n",
      "[22:01:58] WARNING: /workspace/src/objective/regression_obj.cu:152: reg:linear is now deprecated in favor of reg:squarederror.\n",
      "[22:02:19] WARNING: /workspace/src/objective/regression_obj.cu:152: reg:linear is now deprecated in favor of reg:squarederror.\n",
      "[22:02:40] WARNING: /workspace/src/objective/regression_obj.cu:152: reg:linear is now deprecated in favor of reg:squarederror.\n",
      "[22:02:56] WARNING: /workspace/src/objective/regression_obj.cu:152: reg:linear is now deprecated in favor of reg:squarederror.\n",
      "[22:03:14] WARNING: /workspace/src/objective/regression_obj.cu:152: reg:linear is now deprecated in favor of reg:squarederror.\n",
      "[22:03:55] WARNING: /workspace/src/objective/regression_obj.cu:152: reg:linear is now deprecated in favor of reg:squarederror.\n",
      "[22:04:36] WARNING: /workspace/src/objective/regression_obj.cu:152: reg:linear is now deprecated in favor of reg:squarederror.\n",
      "[22:05:10] WARNING: /workspace/src/objective/regression_obj.cu:152: reg:linear is now deprecated in favor of reg:squarederror.\n",
      "[22:05:44] WARNING: /workspace/src/objective/regression_obj.cu:152: reg:linear is now deprecated in favor of reg:squarederror.\n",
      "[22:05:50] WARNING: /workspace/src/objective/regression_obj.cu:152: reg:linear is now deprecated in favor of reg:squarederror.\n",
      "[22:05:56] WARNING: /workspace/src/objective/regression_obj.cu:152: reg:linear is now deprecated in favor of reg:squarederror.\n",
      "[22:06:01] WARNING: /workspace/src/objective/regression_obj.cu:152: reg:linear is now deprecated in favor of reg:squarederror.\n",
      "[22:06:06] WARNING: /workspace/src/objective/regression_obj.cu:152: reg:linear is now deprecated in favor of reg:squarederror.\n",
      "[22:06:18] WARNING: /workspace/src/objective/regression_obj.cu:152: reg:linear is now deprecated in favor of reg:squarederror.\n",
      "[22:06:29] WARNING: /workspace/src/objective/regression_obj.cu:152: reg:linear is now deprecated in favor of reg:squarederror.\n",
      "[22:06:40] WARNING: /workspace/src/objective/regression_obj.cu:152: reg:linear is now deprecated in favor of reg:squarederror.\n",
      "[22:06:50] WARNING: /workspace/src/objective/regression_obj.cu:152: reg:linear is now deprecated in favor of reg:squarederror.\n",
      "[22:07:13] WARNING: /workspace/src/objective/regression_obj.cu:152: reg:linear is now deprecated in favor of reg:squarederror.\n",
      "[22:07:37] WARNING: /workspace/src/objective/regression_obj.cu:152: reg:linear is now deprecated in favor of reg:squarederror.\n",
      "[22:07:59] WARNING: /workspace/src/objective/regression_obj.cu:152: reg:linear is now deprecated in favor of reg:squarederror.\n",
      "[22:08:21] WARNING: /workspace/src/objective/regression_obj.cu:152: reg:linear is now deprecated in favor of reg:squarederror.\n",
      "[22:09:07] WARNING: /workspace/src/objective/regression_obj.cu:152: reg:linear is now deprecated in favor of reg:squarederror.\n",
      "[22:09:54] WARNING: /workspace/src/objective/regression_obj.cu:152: reg:linear is now deprecated in favor of reg:squarederror.\n",
      "[22:10:35] WARNING: /workspace/src/objective/regression_obj.cu:152: reg:linear is now deprecated in favor of reg:squarederror.\n",
      "[22:11:16] WARNING: /workspace/src/objective/regression_obj.cu:152: reg:linear is now deprecated in favor of reg:squarederror.\n",
      "[22:11:21] WARNING: /workspace/src/objective/regression_obj.cu:152: reg:linear is now deprecated in favor of reg:squarederror.\n",
      "[22:11:27] WARNING: /workspace/src/objective/regression_obj.cu:152: reg:linear is now deprecated in favor of reg:squarederror.\n",
      "[22:11:32] WARNING: /workspace/src/objective/regression_obj.cu:152: reg:linear is now deprecated in favor of reg:squarederror.\n",
      "[22:11:37] WARNING: /workspace/src/objective/regression_obj.cu:152: reg:linear is now deprecated in favor of reg:squarederror.\n",
      "[22:11:48] WARNING: /workspace/src/objective/regression_obj.cu:152: reg:linear is now deprecated in favor of reg:squarederror.\n",
      "[22:11:59] WARNING: /workspace/src/objective/regression_obj.cu:152: reg:linear is now deprecated in favor of reg:squarederror.\n",
      "[22:12:09] WARNING: /workspace/src/objective/regression_obj.cu:152: reg:linear is now deprecated in favor of reg:squarederror.\n",
      "[22:12:19] WARNING: /workspace/src/objective/regression_obj.cu:152: reg:linear is now deprecated in favor of reg:squarederror.\n",
      "[22:12:43] WARNING: /workspace/src/objective/regression_obj.cu:152: reg:linear is now deprecated in favor of reg:squarederror.\n",
      "[22:13:08] WARNING: /workspace/src/objective/regression_obj.cu:152: reg:linear is now deprecated in favor of reg:squarederror.\n",
      "[22:13:27] WARNING: /workspace/src/objective/regression_obj.cu:152: reg:linear is now deprecated in favor of reg:squarederror.\n",
      "[22:13:47] WARNING: /workspace/src/objective/regression_obj.cu:152: reg:linear is now deprecated in favor of reg:squarederror.\n",
      "[22:14:34] WARNING: /workspace/src/objective/regression_obj.cu:152: reg:linear is now deprecated in favor of reg:squarederror.\n",
      "[22:15:23] WARNING: /workspace/src/objective/regression_obj.cu:152: reg:linear is now deprecated in favor of reg:squarederror.\n",
      "[22:16:05] WARNING: /workspace/src/objective/regression_obj.cu:152: reg:linear is now deprecated in favor of reg:squarederror.\n"
     ]
    },
    {
     "name": "stderr",
     "output_type": "stream",
     "text": [
      "[Parallel(n_jobs=1)]: Done  64 out of  64 | elapsed: 20.5min finished\n"
     ]
    },
    {
     "name": "stdout",
     "output_type": "stream",
     "text": [
      "[22:16:45] WARNING: /workspace/src/objective/regression_obj.cu:152: reg:linear is now deprecated in favor of reg:squarederror.\n",
      "XGB RMSE: 1555.02\n",
      "XGB MAPE: 65.92\n"
     ]
    }
   ],
   "source": [
    "grid_params = {\n",
    "            'learning_rate': [0.01, 0.1],\n",
    "            'n_estimators': [500, 1000],\n",
    "            'max_depth': [3, 10],\n",
    "            'subsample': [0.8, 1.0],\n",
    "            'colsample_bytree': [0.8, 1.0],\n",
    "            'early_stopping_rounds': [10],\n",
    "            #'min_child_weight': [1, 10],            \n",
    "            #'gamma': [0, 1]\n",
    "            }      \n",
    "xgb = GridSearchCV(estimator=XGBRegressor(seed=42), param_grid=grid_params, cv=2, verbose=1)\n",
    "xgb.fit(X_train, Y_train)\n",
    "\n",
    "Y_pred = xgb.predict(X_test)\n",
    "RMSE_xgb = np.sqrt(metrics.mean_squared_error(Y_test, Y_pred))\n",
    "print('XGB RMSE: %.2f' %(RMSE_xgb)) #1555.91\n",
    "print('XGB MAPE: %.2f'%(MAPE(Y_test, Y_pred)))"
   ]
  },
  {
   "cell_type": "code",
   "execution_count": 150,
   "metadata": {},
   "outputs": [
    {
     "data": {
      "text/plain": [
       "<Container object of 10 artists>"
      ]
     },
     "execution_count": 150,
     "metadata": {},
     "output_type": "execute_result"
    },
    {
     "data": {
      "image/png": "[encoded data removed]",
      "text/plain": [
       "<matplotlib.figure.Figure at 0x7fcf30df2d68>"
      ]
     },
     "metadata": {
      "needs_background": "light"
     },
     "output_type": "display_data"
    }
   ],
   "source": [
    "idx = np.argsort(xgb.best_estimator_.feature_importances_)[-10:]\n",
    "\n",
    "labels = X_train.columns[idx]\n",
    "values = np.sort(xgb.best_estimator_.feature_importances_)[-10:]\n",
    "plt.title('Feature Importance XGBoost')\n",
    "plt.barh(labels, values)"
   ]
  },
  {
   "cell_type": "markdown",
   "metadata": {},
   "source": [
    "## 3.6 - Stacking"
   ]
  },
  {
   "cell_type": "code",
   "execution_count": 151,
   "metadata": {},
   "outputs": [
    {
     "name": "stdout",
     "output_type": "stream",
     "text": [
      "Stacking manual RMSE: 1493.61\n",
      "Stacking manual MAPE: 118.81\n"
     ]
    }
   ],
   "source": [
    "_X_valid_poly = poly.fit_transform(X_valid)\n",
    "_X_test_poly = poly.fit_transform(X_test)\n",
    "\n",
    "lr_y_pred = lr_poly.predict(_X_valid_poly).reshape(-1,1)\n",
    "knn_y_pred = knn.predict(X_valid).reshape(-1,1)\n",
    "xgb_y_pred = xgb.predict(X_valid).reshape(-1,1)\n",
    "\n",
    "_X_train = np.concatenate([xgb_y_pred, knn_y_pred, lr_y_pred], axis=1)\n",
    "\n",
    "_lr = LinearRegression().fit(_X_train, Y_valid)\n",
    "\n",
    "\n",
    "lr_y_pred = lr_poly.predict(_X_test_poly).reshape(-1,1)\n",
    "knn_y_pred = knn.predict(X_test).reshape(-1,1)\n",
    "xgb_y_pred = xgb.predict(X_test).reshape(-1,1)\n",
    "_X_test = np.concatenate([xgb_y_pred, knn_y_pred, lr_y_pred], axis=1)\n",
    "\n",
    "\n",
    "Y_pred = _lr.predict(_X_test)\n",
    "MSE = metrics.mean_squared_error(Y_test, Y_pred)\n",
    "print('Stacking manual RMSE: %.2f' %(np.sqrt(MSE)))\n",
    "print('Stacking manual MAPE: %.2f'%(MAPE(Y_test, Y_pred)))\n"
   ]
  }
 ],
 "metadata": {
  "kernelspec": {
   "display_name": "Python 3",
   "language": "python",
   "name": "python3"
  },
  "language_info": {
   "codemirror_mode": {
    "name": "ipython",
    "version": 3
   },
   "file_extension": ".py",
   "mimetype": "text/x-python",
   "name": "python",
   "nbconvert_exporter": "python",
   "pygments_lexer": "ipython3",
   "version": "3.6.9"
  }
 },
 "nbformat": 4,
 "nbformat_minor": 4
}

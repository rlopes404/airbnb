{
 "cells": [
  {
   "cell_type": "markdown",
   "metadata": {},
   "source": [
    "# Airbnb Notebook"
   ]
  },
  {
   "cell_type": "markdown",
   "metadata": {},
   "source": [
    "# 1 - Limpeza de Dados"
   ]
  },
  {
   "cell_type": "code",
   "execution_count": 1,
   "metadata": {},
   "outputs": [
    {
     "name": "stderr",
     "output_type": "stream",
     "text": [
      "/home/ramon/.local/lib/python3.6/site-packages/IPython/core/interactiveshell.py:3063: DtypeWarning: Columns (61,62,94) have mixed types. Specify dtype option on import or set low_memory=False.\n",
      "  interactivity=interactivity, compiler=compiler, result=result)\n"
     ]
    },
    {
     "data": {
      "text/plain": [
       "(33715, 106)"
      ]
     },
     "execution_count": 1,
     "metadata": {},
     "output_type": "execute_result"
    }
   ],
   "source": [
    "import pandas as pd\n",
    "import numpy as np\n",
    "\n",
    "data = pd.read_csv('data/listings-full.csv', sep=',')\n",
    "data.shape"
   ]
  },
  {
   "cell_type": "markdown",
   "metadata": {},
   "source": [
    "Algumas colunas possuem preços no formato. x,xxx.xx. \n",
    "Vamos remover \"$\" e \",\""
   ]
  },
  {
   "cell_type": "code",
   "execution_count": 2,
   "metadata": {},
   "outputs": [
    {
     "data": {
      "text/html": [
       "<div>\n",
       "<style scoped>\n",
       "    .dataframe tbody tr th:only-of-type {\n",
       "        vertical-align: middle;\n",
       "    }\n",
       "\n",
       "    .dataframe tbody tr th {\n",
       "        vertical-align: top;\n",
       "    }\n",
       "\n",
       "    .dataframe thead th {\n",
       "        text-align: right;\n",
       "    }\n",
       "</style>\n",
       "<table border=\"1\" class=\"dataframe\">\n",
       "  <thead>\n",
       "    <tr style=\"text-align: right;\">\n",
       "      <th></th>\n",
       "      <th>price</th>\n",
       "      <th>security_deposit</th>\n",
       "      <th>extra_people</th>\n",
       "    </tr>\n",
       "  </thead>\n",
       "  <tbody>\n",
       "    <tr>\n",
       "      <th>0</th>\n",
       "      <td>$332.00</td>\n",
       "      <td>$0.00</td>\n",
       "      <td>$63.00</td>\n",
       "    </tr>\n",
       "    <tr>\n",
       "      <th>1</th>\n",
       "      <td>$160.00</td>\n",
       "      <td>$1,000.00</td>\n",
       "      <td>$45.00</td>\n",
       "    </tr>\n",
       "    <tr>\n",
       "      <th>2</th>\n",
       "      <td>$273.00</td>\n",
       "      <td>$0.00</td>\n",
       "      <td>$42.00</td>\n",
       "    </tr>\n",
       "    <tr>\n",
       "      <th>3</th>\n",
       "      <td>$378.00</td>\n",
       "      <td>$1,050.00</td>\n",
       "      <td>$63.00</td>\n",
       "    </tr>\n",
       "    <tr>\n",
       "      <th>4</th>\n",
       "      <td>$130.00</td>\n",
       "      <td>$400.00</td>\n",
       "      <td>$80.00</td>\n",
       "    </tr>\n",
       "  </tbody>\n",
       "</table>\n",
       "</div>"
      ],
      "text/plain": [
       "     price security_deposit extra_people\n",
       "0  $332.00            $0.00       $63.00\n",
       "1  $160.00        $1,000.00       $45.00\n",
       "2  $273.00            $0.00       $42.00\n",
       "3  $378.00        $1,050.00       $63.00\n",
       "4  $130.00          $400.00       $80.00"
      ]
     },
     "execution_count": 2,
     "metadata": {},
     "output_type": "execute_result"
    }
   ],
   "source": [
    "cols = ['price', 'security_deposit', 'extra_people']\n",
    "data[cols].head()"
   ]
  },
  {
   "cell_type": "code",
   "execution_count": 3,
   "metadata": {},
   "outputs": [
    {
     "data": {
      "text/plain": [
       "price               float64\n",
       "security_deposit    float64\n",
       "extra_people        float64\n",
       "dtype: object"
      ]
     },
     "execution_count": 3,
     "metadata": {},
     "output_type": "execute_result"
    }
   ],
   "source": [
    "cols = ['price', 'security_deposit', 'extra_people']\n",
    "data[cols] = data[cols].apply(lambda x: x.str.replace('$','').str.replace(',','').astype(float))\n",
    "data[cols].dtypes"
   ]
  },
  {
   "cell_type": "markdown",
   "metadata": {},
   "source": [
    "Como pode ser visto abaixo, há colunas cujos valores não são númericos. Vamos manter apenas as colunas com valores numéricos e um subconjunto selecionado de colunas. Esse subconjunto contém colunas que acreditamos ser relevantes para o problema após consultar um especialista. Desse modo, mantivemos 63 das 106 colunas originais."
   ]
  },
  {
   "cell_type": "code",
   "execution_count": 4,
   "metadata": {},
   "outputs": [
    {
     "name": "stdout",
     "output_type": "stream",
     "text": [
      "id \t int64\n",
      "listing_url \t object\n",
      "scrape_id \t int64\n",
      "last_scraped \t object\n",
      "name \t object\n",
      "summary \t object\n",
      "space \t object\n",
      "description \t object\n",
      "experiences_offered \t object\n",
      "neighborhood_overview \t object\n",
      "notes \t object\n",
      "transit \t object\n",
      "access \t object\n",
      "interaction \t object\n",
      "house_rules \t object\n",
      "thumbnail_url \t float64\n",
      "medium_url \t float64\n",
      "picture_url \t object\n",
      "xl_picture_url \t float64\n",
      "host_id \t int64\n",
      "host_url \t object\n",
      "host_name \t object\n",
      "host_since \t object\n",
      "host_location \t object\n",
      "host_about \t object\n",
      "host_response_time \t object\n",
      "host_response_rate \t object\n",
      "host_acceptance_rate \t float64\n",
      "host_is_superhost \t object\n",
      "host_thumbnail_url \t object\n",
      "host_picture_url \t object\n",
      "host_neighbourhood \t object\n",
      "host_listings_count \t float64\n",
      "host_total_listings_count \t float64\n",
      "host_verifications \t object\n",
      "host_has_profile_pic \t object\n",
      "host_identity_verified \t object\n",
      "street \t object\n",
      "neighbourhood \t object\n",
      "neighbourhood_cleansed \t object\n",
      "neighbourhood_group_cleansed \t float64\n",
      "city \t object\n",
      "state \t object\n",
      "zipcode \t object\n",
      "market \t object\n",
      "smart_location \t object\n",
      "country_code \t object\n",
      "country \t object\n",
      "latitude \t float64\n",
      "longitude \t float64\n",
      "is_location_exact \t object\n",
      "property_type \t object\n",
      "room_type \t object\n",
      "accommodates \t int64\n",
      "bathrooms \t float64\n",
      "bedrooms \t float64\n",
      "beds \t float64\n",
      "bed_type \t object\n",
      "amenities \t object\n",
      "square_feet \t float64\n",
      "price \t float64\n",
      "weekly_price \t object\n",
      "monthly_price \t object\n",
      "security_deposit \t float64\n",
      "cleaning_fee \t object\n",
      "guests_included \t int64\n",
      "extra_people \t float64\n",
      "minimum_nights \t int64\n",
      "maximum_nights \t int64\n",
      "minimum_minimum_nights \t int64\n",
      "maximum_minimum_nights \t int64\n",
      "minimum_maximum_nights \t int64\n",
      "maximum_maximum_nights \t int64\n",
      "minimum_nights_avg_ntm \t float64\n",
      "maximum_nights_avg_ntm \t float64\n",
      "calendar_updated \t object\n",
      "has_availability \t object\n",
      "availability_30 \t int64\n",
      "availability_60 \t int64\n",
      "availability_90 \t int64\n",
      "availability_365 \t int64\n",
      "calendar_last_scraped \t object\n",
      "number_of_reviews \t int64\n",
      "number_of_reviews_ltm \t int64\n",
      "first_review \t object\n",
      "last_review \t object\n",
      "review_scores_rating \t float64\n",
      "review_scores_accuracy \t float64\n",
      "review_scores_cleanliness \t float64\n",
      "review_scores_checkin \t float64\n",
      "review_scores_communication \t float64\n",
      "review_scores_location \t float64\n",
      "review_scores_value \t float64\n",
      "requires_license \t object\n",
      "license \t object\n",
      "jurisdiction_names \t float64\n",
      "instant_bookable \t object\n",
      "is_business_travel_ready \t object\n",
      "cancellation_policy \t object\n",
      "require_guest_profile_picture \t object\n",
      "require_guest_phone_verification \t object\n",
      "calculated_host_listings_count \t int64\n",
      "calculated_host_listings_count_entire_homes \t int64\n",
      "calculated_host_listings_count_private_rooms \t int64\n",
      "calculated_host_listings_count_shared_rooms \t int64\n",
      "reviews_per_month \t float64\n"
     ]
    }
   ],
   "source": [
    "for k,v in zip(data.dtypes.index, data.dtypes):\n",
    "    print('%s \\t %s' %(k,v))"
   ]
  },
  {
   "cell_type": "code",
   "execution_count": 5,
   "metadata": {},
   "outputs": [
    {
     "data": {
      "text/plain": [
       "(33715, 63)"
      ]
     },
     "execution_count": 5,
     "metadata": {},
     "output_type": "execute_result"
    }
   ],
   "source": [
    "df = data.select_dtypes(include=np.number)\n",
    "selected = ['host_since', 'host_response_time', 'host_acceptance_rate', 'host_is_superhost', 'host_neighbourhood', 'host_listings_count', 'host_total_listings_count', 'neighbourhood', 'neighbourhood_cleansed', 'bedrooms', 'beds', 'bed_type', 'amenities', 'square_feet', 'weekly_price', 'monthly_price', 'security_deposit', 'security_deposit', 'guests_included', 'extra_people', 'minimum_nights', 'maximum_nights', 'number_of_reviews', 'number_of_reviews_ltm', 'first_review', 'review_scores_rating', 'review_scores_accuracy', 'review_scores_cleanliness', 'review_scores_checkin', 'review_scores_communication', 'review_scores_location', 'review_scores_value', 'cancellation_policy', 'require_guest_profile_picture', 'require_guest_phone_verification', 'reviews_per_month', 'price', 'room_type']\n",
    "\n",
    "cols = set(list(df.columns) + selected)\n",
    "df = data[list(cols)]\n",
    "df.shape"
   ]
  },
  {
   "cell_type": "markdown",
   "metadata": {},
   "source": [
    "Como podemos ver abaixo, a coluna 'amenities', comodidades em tradução livre, possui uma lista de strings. Acreditamos que comodidades podem afetar diretamente o preço de aluguel."
   ]
  },
  {
   "cell_type": "code",
   "execution_count": 6,
   "metadata": {},
   "outputs": [
    {
     "data": {
      "text/plain": [
       "0    {TV,\"Cable TV\",Internet,Wifi,\"Air conditioning...\n",
       "1    {TV,\"Cable TV\",Internet,Wifi,\"Air conditioning...\n",
       "2    {TV,\"Cable TV\",Internet,Wifi,\"Air conditioning...\n",
       "3    {TV,\"Cable TV\",Internet,Wifi,\"Air conditioning...\n",
       "4    {TV,\"Cable TV\",Wifi,\"Air conditioning\",Kitchen...\n",
       "Name: amenities, dtype: object"
      ]
     },
     "execution_count": 6,
     "metadata": {},
     "output_type": "execute_result"
    }
   ],
   "source": [
    "df['amenities'].head()"
   ]
  },
  {
   "cell_type": "markdown",
   "metadata": {},
   "source": [
    "Vamos criar uma nova coluna 'num_amenities' para representar o número de comodidades. Desse modo, partimos da hipótese de que um apartamento que forneça mais comodidades provavelmente terá um preço maior."
   ]
  },
  {
   "cell_type": "code",
   "execution_count": 7,
   "metadata": {},
   "outputs": [
    {
     "name": "stderr",
     "output_type": "stream",
     "text": [
      "/home/ramon/.local/lib/python3.6/site-packages/ipykernel_launcher.py:1: SettingWithCopyWarning: \n",
      "A value is trying to be set on a copy of a slice from a DataFrame.\n",
      "Try using .loc[row_indexer,col_indexer] = value instead\n",
      "\n",
      "See the caveats in the documentation: http://pandas.pydata.org/pandas-docs/stable/indexing.html#indexing-view-versus-copy\n",
      "  \"\"\"Entry point for launching an IPython kernel.\n"
     ]
    },
    {
     "data": {
      "text/plain": [
       "0    33\n",
       "1    14\n",
       "2    25\n",
       "3    33\n",
       "4    41\n",
       "Name: num_amenities, dtype: int64"
      ]
     },
     "execution_count": 7,
     "metadata": {},
     "output_type": "execute_result"
    }
   ],
   "source": [
    "df['num_amenities'] = df['amenities'].apply(lambda x: len(x.split(',')))\n",
    "df['num_amenities'].head()"
   ]
  },
  {
   "cell_type": "markdown",
   "metadata": {},
   "source": [
    "Vamos agora analisar missing data. Primeiro, vamos avaliar a razão de missing data para cada coluna."
   ]
  },
  {
   "cell_type": "code",
   "execution_count": 8,
   "metadata": {},
   "outputs": [
    {
     "data": {
      "text/plain": [
       "neighbourhood_group_cleansed                    1.000000\n",
       "jurisdiction_names                              1.000000\n",
       "cancellation_policy                             0.000000\n",
       "host_acceptance_rate                            1.000000\n",
       "guests_included                                 0.000000\n",
       "host_is_superhost                               0.000593\n",
       "price                                           0.000000\n",
       "medium_url                                      1.000000\n",
       "longitude                                       0.000000\n",
       "xl_picture_url                                  1.000000\n",
       "latitude                                        0.000000\n",
       "availability_30                                 0.000000\n",
       "calculated_host_listings_count_shared_rooms     0.000000\n",
       "id                                              0.000000\n",
       "number_of_reviews                               0.000000\n",
       "monthly_price                                   0.916209\n",
       "maximum_minimum_nights                          0.000000\n",
       "room_type                                       0.000000\n",
       "host_since                                      0.000593\n",
       "review_scores_rating                            0.457423\n",
       "availability_90                                 0.000000\n",
       "review_scores_checkin                           0.457986\n",
       "bathrooms                                       0.001602\n",
       "calculated_host_listings_count_private_rooms    0.000000\n",
       "calculated_host_listings_count_entire_homes     0.000000\n",
       "amenities                                       0.000000\n",
       "review_scores_location                          0.457897\n",
       "first_review                                    0.432033\n",
       "minimum_maximum_nights                          0.000000\n",
       "weekly_price                                    0.924485\n",
       "                                                  ...   \n",
       "scrape_id                                       0.000000\n",
       "review_scores_cleanliness                       0.457808\n",
       "maximum_maximum_nights                          0.000000\n",
       "host_listings_count                             0.000593\n",
       "review_scores_accuracy                          0.457956\n",
       "security_deposit                                0.438381\n",
       "neighbourhood                                   0.058075\n",
       "minimum_minimum_nights                          0.000000\n",
       "host_neighbourhood                              0.365297\n",
       "maximum_nights                                  0.000000\n",
       "square_feet                                     0.985318\n",
       "bed_type                                        0.000000\n",
       "review_scores_communication                     0.457808\n",
       "availability_60                                 0.000000\n",
       "minimum_nights_avg_ntm                          0.000000\n",
       "require_guest_profile_picture                   0.000000\n",
       "extra_people                                    0.000000\n",
       "bedrooms                                        0.001246\n",
       "host_response_time                              0.362865\n",
       "calculated_host_listings_count                  0.000000\n",
       "minimum_nights                                  0.000000\n",
       "accommodates                                    0.000000\n",
       "availability_365                                0.000000\n",
       "number_of_reviews_ltm                           0.000000\n",
       "maximum_nights_avg_ntm                          0.000000\n",
       "thumbnail_url                                   1.000000\n",
       "beds                                            0.001424\n",
       "require_guest_phone_verification                0.000000\n",
       "host_id                                         0.000000\n",
       "num_amenities                                   0.000000\n",
       "Length: 64, dtype: float64"
      ]
     },
     "execution_count": 8,
     "metadata": {},
     "output_type": "execute_result"
    }
   ],
   "source": [
    "df.isnull().sum()/len(df)"
   ]
  },
  {
   "cell_type": "markdown",
   "metadata": {},
   "source": [
    "Podemos ver que há colunas em que todas as linhas são missing data. Portanto, vamos manter apenas colunas que possuem mais de 50% dos dados."
   ]
  },
  {
   "cell_type": "code",
   "execution_count": 10,
   "metadata": {},
   "outputs": [
    {
     "data": {
      "text/plain": [
       "cancellation_policy                             0.000000\n",
       "guests_included                                 0.000000\n",
       "host_is_superhost                               0.000593\n",
       "price                                           0.000000\n",
       "longitude                                       0.000000\n",
       "latitude                                        0.000000\n",
       "availability_30                                 0.000000\n",
       "calculated_host_listings_count_shared_rooms     0.000000\n",
       "id                                              0.000000\n",
       "number_of_reviews                               0.000000\n",
       "maximum_minimum_nights                          0.000000\n",
       "room_type                                       0.000000\n",
       "host_since                                      0.000593\n",
       "review_scores_rating                            0.457423\n",
       "availability_90                                 0.000000\n",
       "review_scores_checkin                           0.457986\n",
       "bathrooms                                       0.001602\n",
       "calculated_host_listings_count_private_rooms    0.000000\n",
       "calculated_host_listings_count_entire_homes     0.000000\n",
       "amenities                                       0.000000\n",
       "review_scores_location                          0.457897\n",
       "first_review                                    0.432033\n",
       "minimum_maximum_nights                          0.000000\n",
       "neighbourhood_cleansed                          0.000000\n",
       "host_total_listings_count                       0.000593\n",
       "review_scores_value                             0.457867\n",
       "reviews_per_month                               0.432033\n",
       "scrape_id                                       0.000000\n",
       "review_scores_cleanliness                       0.457808\n",
       "maximum_maximum_nights                          0.000000\n",
       "host_listings_count                             0.000593\n",
       "review_scores_accuracy                          0.457956\n",
       "security_deposit                                0.438381\n",
       "neighbourhood                                   0.058075\n",
       "minimum_minimum_nights                          0.000000\n",
       "host_neighbourhood                              0.365297\n",
       "maximum_nights                                  0.000000\n",
       "bed_type                                        0.000000\n",
       "review_scores_communication                     0.457808\n",
       "availability_60                                 0.000000\n",
       "minimum_nights_avg_ntm                          0.000000\n",
       "require_guest_profile_picture                   0.000000\n",
       "extra_people                                    0.000000\n",
       "bedrooms                                        0.001246\n",
       "host_response_time                              0.362865\n",
       "calculated_host_listings_count                  0.000000\n",
       "minimum_nights                                  0.000000\n",
       "accommodates                                    0.000000\n",
       "availability_365                                0.000000\n",
       "number_of_reviews_ltm                           0.000000\n",
       "maximum_nights_avg_ntm                          0.000000\n",
       "beds                                            0.001424\n",
       "require_guest_phone_verification                0.000000\n",
       "host_id                                         0.000000\n",
       "num_amenities                                   0.000000\n",
       "dtype: float64"
      ]
     },
     "execution_count": 10,
     "metadata": {},
     "output_type": "execute_result"
    }
   ],
   "source": [
    "df = df[df.columns[df.count(axis=0)/len(df) > 0.5]]\n",
    "df.isnull().sum()/len(df)"
   ]
  },
  {
   "cell_type": "markdown",
   "metadata": {},
   "source": [
    "Em seguida, vamos remover algumas colunas, transformar valores booleanos em numéricos, remover dados com missing data no campo 'neighbourhood'. Por fim, vamos realizar imputação de dados. Na literatura de Estatística, há várias técnicas de imputação de dados (média, regressão, múltipla). Neste momento, vamos simplemente imputar missing data com valor zero. Posteriormente, pretendemos avaliar o efeito de imputar com a média."
   ]
  },
  {
   "cell_type": "code",
   "execution_count": 13,
   "metadata": {},
   "outputs": [
    {
     "data": {
      "text/plain": [
       "guests_included                                 1.0\n",
       "host_is_superhost                               1.0\n",
       "price                                           1.0\n",
       "availability_30                                 1.0\n",
       "calculated_host_listings_count_shared_rooms     1.0\n",
       "number_of_reviews                               1.0\n",
       "room_type                                       1.0\n",
       "review_scores_rating                            1.0\n",
       "availability_90                                 1.0\n",
       "review_scores_checkin                           1.0\n",
       "bathrooms                                       1.0\n",
       "calculated_host_listings_count_private_rooms    1.0\n",
       "calculated_host_listings_count_entire_homes     1.0\n",
       "review_scores_location                          1.0\n",
       "first_review                                    1.0\n",
       "host_total_listings_count                       1.0\n",
       "review_scores_value                             1.0\n",
       "reviews_per_month                               1.0\n",
       "review_scores_cleanliness                       1.0\n",
       "host_listings_count                             1.0\n",
       "review_scores_accuracy                          1.0\n",
       "neighbourhood                                   1.0\n",
       "maximum_nights                                  1.0\n",
       "bed_type                                        1.0\n",
       "review_scores_communication                     1.0\n",
       "availability_60                                 1.0\n",
       "require_guest_profile_picture                   1.0\n",
       "extra_people                                    1.0\n",
       "bedrooms                                        1.0\n",
       "calculated_host_listings_count                  1.0\n",
       "minimum_nights                                  1.0\n",
       "accommodates                                    1.0\n",
       "availability_365                                1.0\n",
       "number_of_reviews_ltm                           1.0\n",
       "beds                                            1.0\n",
       "require_guest_phone_verification                1.0\n",
       "num_amenities                                   1.0\n",
       "dtype: float64"
      ]
     },
     "execution_count": 13,
     "metadata": {},
     "output_type": "execute_result"
    }
   ],
   "source": [
    "to_drop = ['id', 'security_deposit', 'minimum_nights_avg_ntm', 'maximum_maximum_nights', \n",
    "           'neighbourhood_cleansed', 'host_id', 'scrape_id', 'host_since', 'host_response_time', \n",
    "           'maximum_minimum_nights', 'latitude',  'minimum_maximum_nights', 'minimum_minimum_nights', \n",
    "           'cancellation_policy', 'host_neighbourhood', 'maximum_nights_avg_ntm', 'amenities', 'longitude']\n",
    "\n",
    "dff = df.drop(columns=to_drop)\n",
    "dff = dff.replace(['f','t'],[0,1])\n",
    "dff = dff[~dff['neighbourhood'].isna()]\n",
    "dff.fillna(0, inplace=True)\n",
    "\n",
    "dff.count(axis=0)/len(dff)"
   ]
  },
  {
   "cell_type": "markdown",
   "metadata": {},
   "source": [
    "Agora, temos um dataset onde não há missing data e contém 37 das 106 colunas e 31757 das 33715 linhas originais. Este dataset reduzido será utilizado na etapa seguinte."
   ]
  },
  {
   "cell_type": "code",
   "execution_count": 14,
   "metadata": {},
   "outputs": [
    {
     "data": {
      "text/plain": [
       "(31757, 37)"
      ]
     },
     "execution_count": 14,
     "metadata": {},
     "output_type": "execute_result"
    }
   ],
   "source": [
    "dff.shape"
   ]
  },
  {
   "cell_type": "markdown",
   "metadata": {},
   "source": [
    "# 2- Análise Exploratória"
   ]
  },
  {
   "cell_type": "code",
   "execution_count": null,
   "metadata": {},
   "outputs": [],
   "source": []
  },
  {
   "cell_type": "code",
   "execution_count": null,
   "metadata": {},
   "outputs": [],
   "source": [
    "#!/usr/bin/env python3\n",
    "# -*- coding: utf-8 -*-\n",
    "\"\"\"\n",
    "Created on Fri Feb 28 06:28:50 2020\n",
    "\n",
    "@author: ramon\n",
    "\"\"\"\n",
    "import pandas as pd\n",
    "import numpy as np\n",
    "np.random.seed(0)\n",
    "\n",
    "import math\n",
    "\n",
    "from scipy import stats\n",
    "\n",
    "import matplotlib.pyplot as plt\n",
    "import seaborn as sns\n",
    "\n",
    "from sklearn import metrics\n",
    "from sklearn.model_selection import train_test_split\n",
    "\n",
    "from sklearn.model_selection import GridSearchCV\n",
    "\n",
    "from sklearn.linear_model import LinearRegression\n",
    "from sklearn.preprocessing import PolynomialFeatures\n",
    "from sklearn.linear_model import Ridge\n",
    "\n",
    "from sklearn.neighbors import KNeighborsRegressor\n",
    "\n",
    "from xgboost import XGBRegressor\n",
    "from xgboost import plot_importance\n",
    " \n",
    "from sklearn.ensemble import StackingRegressor"
   ]
  },
  {
   "cell_type": "code",
   "execution_count": null,
   "metadata": {},
   "outputs": [],
   "source": []
  },
  {
   "cell_type": "code",
   "execution_count": null,
   "metadata": {},
   "outputs": [],
   "source": []
  },
  {
   "cell_type": "code",
   "execution_count": null,
   "metadata": {},
   "outputs": [],
   "source": []
  },
  {
   "cell_type": "code",
   "execution_count": null,
   "metadata": {},
   "outputs": [],
   "source": [
    "## load data\n",
    "name = 'data.csv'\n",
    "y_name = 'price'\n",
    "\n",
    "data = pd.read_csv(name, sep=',', header=0)\n",
    "\n",
    "data.head(n=5)"
   ]
  },
  {
   "cell_type": "code",
   "execution_count": null,
   "metadata": {},
   "outputs": [],
   "source": [
    "cnt_bed_type = data['bed_type'].value_counts()\n",
    "(cnt_bed_type/np.sum(cnt_bed_type)).plot(kind='bar')"
   ]
  },
  {
   "cell_type": "code",
   "execution_count": null,
   "metadata": {},
   "outputs": [],
   "source": [
    "data.shape"
   ]
  },
  {
   "cell_type": "code",
   "execution_count": null,
   "metadata": {},
   "outputs": [],
   "source": [
    "data.dtypes"
   ]
  },
  {
   "cell_type": "code",
   "execution_count": null,
   "metadata": {},
   "outputs": [],
   "source": []
  }
 ],
 "metadata": {
  "kernelspec": {
   "display_name": "Python 3",
   "language": "python",
   "name": "python3"
  },
  "language_info": {
   "codemirror_mode": {
    "name": "ipython",
    "version": 3
   },
   "file_extension": ".py",
   "mimetype": "text/x-python",
   "name": "python",
   "nbconvert_exporter": "python",
   "pygments_lexer": "ipython3",
   "version": "3.6.9"
  }
 },
 "nbformat": 4,
 "nbformat_minor": 4
}
